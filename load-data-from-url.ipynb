{
 "cells": [
  {
   "cell_type": "markdown",
   "id": "6db821df",
   "metadata": {},
   "source": [
    "# Loading data from URL\n",
    "\n",
    "Use this blueprint for uploading data to a new Elasticsearch index from a URL.\n",
    "This example downloads a JSON file.\n"
   ]
  },
  {
   "cell_type": "code",
   "execution_count": null,
   "id": "b05b3b55",
   "metadata": {},
   "outputs": [],
   "source": [
    "# Need this package to work with JSON in Python\n",
    "import json \n",
    "\n",
    "# Replace with the URL where dataset lives\n",
    "url = \"https://raw.githubusercontent.com/leemthompo/notebook-tests/main/12-movies.json\"\n",
    "\n",
    "# Send a request to the URL and get the response\n",
    "response = urlopen(url)\n",
    "\n",
    "# Load the response data into a JSON object\n",
    "data_json = json.loads(response.read())\n",
    "\n",
    "# Replace with name of your new index\n",
    "index = \"my-index\"\n",
    "\n",
    "def create_index_body(doc):\n",
    "    \"\"\" Generate the body for an Elasticsearch document. \"\"\"\n",
    "    return {\n",
    "        \"_index\": index,\n",
    "        \"_source\": doc,\n",
    "    }\n",
    "\n",
    "# Prepare the documents to be indexed\n",
    "documents = [create_index_body(doc) for doc in data_json]\n",
    "\n",
    "# Use helpers.bulk to index\n",
    "helpers.bulk(client, documents)\n",
    "\n",
    "print(f\"Done indexing documents into {index} index!\")"
   ]
  }
 ],
 "metadata": {
  "kernelspec": {
   "display_name": "Python 3 (ipykernel)",
   "language": "python",
   "name": "python3"
  },
  "language_info": {
   "codemirror_mode": {
    "name": "ipython",
    "version": 3
   },
   "file_extension": ".py",
   "mimetype": "text/x-python",
   "name": "python",
   "nbconvert_exporter": "python",
   "pygments_lexer": "ipython3",
   "version": "3.9.16"
  }
 },
 "nbformat": 4,
 "nbformat_minor": 5
}
