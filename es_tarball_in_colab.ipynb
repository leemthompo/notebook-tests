{
  "nbformat": 4,
  "nbformat_minor": 0,
  "metadata": {
    "colab": {
      "provenance": [],
      "authorship_tag": "ABX9TyM/psYzpUlo9cJabJuvW6wJ",
      "include_colab_link": true
    },
    "kernelspec": {
      "name": "python3",
      "display_name": "Python 3"
    },
    "language_info": {
      "name": "python"
    }
  },
  "cells": [
    {
      "cell_type": "markdown",
      "metadata": {
        "id": "view-in-github",
        "colab_type": "text"
      },
      "source": [
        "<a href=\"https://colab.research.google.com/github/leemthompo/notebook-tests/blob/main/es_tarball_in_colab.ipynb\" target=\"_parent\"><img src=\"https://colab.research.google.com/assets/colab-badge.svg\" alt=\"Open In Colab\"/></a>"
      ]
    },
    {
      "cell_type": "code",
      "execution_count": 1,
      "metadata": {
        "id": "BdhmWsJUBwnS"
      },
      "outputs": [],
      "source": [
        "# Download tarball\n",
        "\n",
        "%%bash\n",
        "\n",
        "wget -q https://artifacts.elastic.co/downloads/elasticsearch/elasticsearch-8.10.1-linux-x86_64.tar.gz\n",
        "wget -q https://artifacts.elastic.co/downloads/elasticsearch/elasticsearch-8.10.1-linux-x86_64.tar.gz.sha512\n",
        "tar -xzf elasticsearch-8.10.1-linux-x86_64.tar.gz\n"
      ]
    },
    {
      "cell_type": "code",
      "source": [
        "!sudo chown -R daemon:daemon elasticsearch-8.10.1/\n",
        "!shasum -a 512 -c elasticsearch-8.10.1-linux-x86_64.tar.gz.sha512"
      ],
      "metadata": {
        "colab": {
          "base_uri": "https://localhost:8080/"
        },
        "id": "ii4WEnGUL5wF",
        "outputId": "edda4bd5-c7f4-4ef7-cb60-0128faffd38b"
      },
      "execution_count": 65,
      "outputs": [
        {
          "output_type": "stream",
          "name": "stdout",
          "text": [
            "elasticsearch-8.10.1-linux-x86_64.tar.gz: OK\n"
          ]
        }
      ]
    },
    {
      "cell_type": "code",
      "source": [
        "# Run the instance as a daemon process\n",
        "\n",
        "%%bash --bg\n",
        "\n",
        "sudo -H -u daemon elasticsearch-8.10.1/bin/elasticsearch\n",
        "\n"
      ],
      "metadata": {
        "id": "U6jW_TW2B-pP"
      },
      "execution_count": 90,
      "outputs": []
    },
    {
      "cell_type": "code",
      "source": [
        "%%bash\n",
        "\n",
        "ps -ef | grep elasticsearch"
      ],
      "metadata": {
        "colab": {
          "base_uri": "https://localhost:8080/"
        },
        "id": "y_uXmn1jCFwd",
        "outputId": "90f3a15c-a910-4aa4-e8b1-3ee63aada31e"
      },
      "execution_count": 88,
      "outputs": [
        {
          "output_type": "stream",
          "name": "stdout",
          "text": [
            "root       13003   13001  0 10:10 ?        00:00:00 grep elasticsearch\n"
          ]
        }
      ]
    },
    {
      "cell_type": "code",
      "source": [
        "# Ping endpoint\n",
        "\n",
        "!curl -v -sX GET \"localhost:9200/\""
      ],
      "metadata": {
        "colab": {
          "base_uri": "https://localhost:8080/"
        },
        "id": "5YEIdLsfCHy1",
        "outputId": "734e1b99-ce32-4c29-d08a-a7dd28d6d64e"
      },
      "execution_count": 89,
      "outputs": [
        {
          "output_type": "stream",
          "name": "stdout",
          "text": [
            "*   Trying 127.0.0.1:9200...\n",
            "* connect to 127.0.0.1 port 9200 failed: Connection refused\n",
            "*   Trying ::1:9200...\n",
            "* Immediate connect fail for ::1: Cannot assign requested address\n",
            "* Failed to connect to localhost port 9200 after 4 ms: Connection refused\n",
            "* Closing connection 0\n"
          ]
        }
      ]
    }
  ]
}