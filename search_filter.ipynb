{
  "cells": [
    {
      "cell_type": "markdown",
      "metadata": {
        "id": "view-in-github",
        "colab_type": "text"
      },
      "source": [
        "<a href=\"https://colab.research.google.com/github/leemthompo/notebook-tests/blob/main/search_filter.ipynb\" target=\"_parent\"><img src=\"https://colab.research.google.com/assets/colab-badge.svg\" alt=\"Open In Colab\"/></a>"
      ]
    },
    {
      "cell_type": "markdown",
      "id": "9cc79ce4",
      "metadata": {
        "id": "9cc79ce4"
      },
      "source": [
        "\n",
        "# Basic full-text search and filtering in Elasticsearch"
      ]
    },
    {
      "cell_type": "markdown",
      "id": "4975319d",
      "metadata": {
        "id": "4975319d"
      },
      "source": [
        "This is a hands-on introduction to the basics of full-text search with Elasticsearch, also known as _lexical search_, using the [`_search` API](https://elasticsearch_bk_114353.docs-preview.app.elstc.co/guide/en/elasticsearch/reference/master/search-search.html \"Search API\") and [Query DSL](https://elasticsearch_bk_114353.docs-preview.app.elstc.co/guide/en/elasticsearch/reference/master/query-dsl.html \"Query DSL\"). You’ll also learn how to filter data, to narrow down search results based on exact criteria."
      ]
    },
    {
      "cell_type": "markdown",
      "id": "42ec2b25",
      "metadata": {
        "id": "42ec2b25"
      },
      "source": [
        "In this scenario, we’re implementing a search function for a cooking blog. The blog contains recipes with various attributes including textual content, categorical data, and numerical ratings."
      ]
    },
    {
      "cell_type": "markdown",
      "id": "8d5e3382",
      "metadata": {
        "id": "8d5e3382"
      },
      "source": [
        "The goal is to create search queries that enable users to:"
      ]
    },
    {
      "cell_type": "markdown",
      "id": "0bc56b17",
      "metadata": {
        "id": "0bc56b17"
      },
      "source": [
        "*   Find recipes based on ingredients they want to use or avoid\n",
        "*   Discover dishes suitable for their dietary needs\n",
        "*   Find highly-rated recipes in specific categories\n",
        "*   Find recent recipes from their favorite authors"
      ]
    },
    {
      "cell_type": "markdown",
      "id": "afb0da09",
      "metadata": {
        "id": "afb0da09"
      },
      "source": [
        "To achieve these goals we’ll use different Elasticsearch queries to perform full-text search, apply filters, and combine multiple search criteria."
      ]
    },
    {
      "cell_type": "markdown",
      "source": [
        "## Setup & Prerequisites\n",
        "\n",
        "You'll need a running instance of Elasticsearch to follow along with this tutorial.\n",
        "First we need to install and import the required packages."
      ],
      "metadata": {
        "id": "alfSyVFxPoKj"
      },
      "id": "alfSyVFxPoKj"
    },
    {
      "cell_type": "code",
      "execution_count": 1,
      "id": "6738f2b5",
      "metadata": {
        "colab": {
          "base_uri": "https://localhost:8080/"
        },
        "id": "6738f2b5",
        "outputId": "c101f472-f021-430f-d8e9-fc97074e5821"
      },
      "outputs": [
        {
          "output_type": "stream",
          "name": "stdout",
          "text": [
            "Collecting elasticsearch\n",
            "  Downloading elasticsearch-8.15.1-py3-none-any.whl.metadata (8.7 kB)\n",
            "Collecting elastic-transport<9,>=8.13 (from elasticsearch)\n",
            "  Downloading elastic_transport-8.15.1-py3-none-any.whl.metadata (3.7 kB)\n",
            "Requirement already satisfied: urllib3<3,>=1.26.2 in /usr/local/lib/python3.10/dist-packages (from elastic-transport<9,>=8.13->elasticsearch) (2.2.3)\n",
            "Requirement already satisfied: certifi in /usr/local/lib/python3.10/dist-packages (from elastic-transport<9,>=8.13->elasticsearch) (2024.8.30)\n",
            "Downloading elasticsearch-8.15.1-py3-none-any.whl (524 kB)\n",
            "\u001b[2K   \u001b[90m━━━━━━━━━━━━━━━━━━━━━━━━━━━━━━━━━━━━━━━━\u001b[0m \u001b[32m524.6/524.6 kB\u001b[0m \u001b[31m7.9 MB/s\u001b[0m eta \u001b[36m0:00:00\u001b[0m\n",
            "\u001b[?25hDownloading elastic_transport-8.15.1-py3-none-any.whl (64 kB)\n",
            "\u001b[2K   \u001b[90m━━━━━━━━━━━━━━━━━━━━━━━━━━━━━━━━━━━━━━━━\u001b[0m \u001b[32m64.4/64.4 kB\u001b[0m \u001b[31m3.4 MB/s\u001b[0m eta \u001b[36m0:00:00\u001b[0m\n",
            "\u001b[?25hInstalling collected packages: elastic-transport, elasticsearch\n",
            "Successfully installed elastic-transport-8.15.1 elasticsearch-8.15.1\n"
          ]
        }
      ],
      "source": [
        "!pip install elasticsearch\n",
        "from getpass import getpass\n",
        "from elasticsearch import Elasticsearch"
      ]
    },
    {
      "cell_type": "markdown",
      "source": [
        "Now we need to instantiate an Elasticsearch Python client to talk to our Elasticsearch cluster."
      ],
      "metadata": {
        "id": "U7JdUHwiP7yv"
      },
      "id": "U7JdUHwiP7yv"
    },
    {
      "cell_type": "code",
      "execution_count": 5,
      "id": "3f054058",
      "metadata": {
        "colab": {
          "base_uri": "https://localhost:8080/"
        },
        "id": "3f054058",
        "outputId": "bc9fd412-33c7-4f04-f28c-678fcf7a2e49"
      },
      "outputs": [
        {
          "name": "stdout",
          "output_type": "stream",
          "text": [
            "Elastic Cloud ID: ··········\n",
            "Elastic Api Key: ··········\n"
          ]
        }
      ],
      "source": [
        "# https://www.elastic.co/search-labs/tutorials/install-elasticsearch/elastic-cloud#finding-your-cloud-id\n",
        "ELASTIC_CLOUD_ID = getpass(\"Elastic Cloud ID: \")\n",
        "\n",
        "# https://www.elastic.co/search-labs/tutorials/install-elasticsearch/elastic-cloud#creating-an-api-key\n",
        "ELASTIC_API_KEY = getpass(\"Elastic Api Key: \")\n",
        "\n",
        "# Create the client instance\n",
        "client = Elasticsearch(\n",
        "    # For local development\n",
        "    # hosts=[\"http://localhost:9200\"]\n",
        "    cloud_id=ELASTIC_CLOUD_ID,\n",
        "    api_key=ELASTIC_API_KEY,\n",
        ")"
      ]
    },
    {
      "cell_type": "markdown",
      "id": "99262e52",
      "metadata": {
        "id": "99262e52"
      },
      "source": [
        "### Step 1: Create an index"
      ]
    },
    {
      "cell_type": "markdown",
      "id": "31e077e0",
      "metadata": {
        "id": "31e077e0"
      },
      "source": [
        "Create the `cooking_blog` index to get started:"
      ]
    },
    {
      "cell_type": "code",
      "source": [
        "resp = client.indices.create(index=\"cooking_blog\")\n",
        "print(resp)"
      ],
      "metadata": {
        "colab": {
          "base_uri": "https://localhost:8080/"
        },
        "id": "5R5vjzpbPWIe",
        "outputId": "8fb9e948-af95-458d-dbb8-a7a501267a5f"
      },
      "id": "5R5vjzpbPWIe",
      "execution_count": 8,
      "outputs": [
        {
          "output_type": "stream",
          "name": "stdout",
          "text": [
            "{'acknowledged': True, 'shards_acknowledged': True, 'index': 'cooking_blog'}\n"
          ]
        }
      ]
    },
    {
      "cell_type": "markdown",
      "id": "8cde6272",
      "metadata": {
        "id": "8cde6272"
      },
      "source": [
        "Now define the mappings for the index:"
      ]
    },
    {
      "cell_type": "code",
      "execution_count": 9,
      "id": "f4731a26",
      "metadata": {
        "colab": {
          "base_uri": "https://localhost:8080/"
        },
        "id": "f4731a26",
        "outputId": "a0a92287-491c-4ee1-ba12-3b4493ece58b"
      },
      "outputs": [
        {
          "output_type": "stream",
          "name": "stdout",
          "text": [
            "{'acknowledged': True}\n"
          ]
        }
      ],
      "source": [
        "resp = client.indices.put_mapping(\n",
        "    index=\"cooking_blog\",\n",
        "    properties={\n",
        "        \"title\": {\n",
        "            \"type\": \"text\",\n",
        "            \"analyzer\": \"standard\",\n",
        "            \"fields\": {\n",
        "                \"keyword\": {\n",
        "                    \"type\": \"keyword\",\n",
        "                    \"ignore_above\": 256\n",
        "                }\n",
        "            }\n",
        "        },\n",
        "        \"description\": {\n",
        "            \"type\": \"text\",\n",
        "            \"fields\": {\n",
        "                \"keyword\": {\n",
        "                    \"type\": \"keyword\"\n",
        "                }\n",
        "            }\n",
        "        },\n",
        "        \"author\": {\n",
        "            \"type\": \"text\",\n",
        "            \"fields\": {\n",
        "                \"keyword\": {\n",
        "                    \"type\": \"keyword\"\n",
        "                }\n",
        "            }\n",
        "        },\n",
        "        \"date\": {\n",
        "            \"type\": \"date\",\n",
        "            \"format\": \"yyyy-MM-dd\"\n",
        "        },\n",
        "        \"category\": {\n",
        "            \"type\": \"text\",\n",
        "            \"fields\": {\n",
        "                \"keyword\": {\n",
        "                    \"type\": \"keyword\"\n",
        "                }\n",
        "            }\n",
        "        },\n",
        "        \"tags\": {\n",
        "            \"type\": \"text\",\n",
        "            \"fields\": {\n",
        "                \"keyword\": {\n",
        "                    \"type\": \"keyword\"\n",
        "                }\n",
        "            }\n",
        "        },\n",
        "        \"rating\": {\n",
        "            \"type\": \"float\"\n",
        "        }\n",
        "    },\n",
        ")\n",
        "\n",
        "print(resp)"
      ]
    },
    {
      "cell_type": "markdown",
      "id": "c0f40b3d",
      "metadata": {
        "id": "c0f40b3d"
      },
      "source": [
        "<table summary=\"Callout list\"><tbody><tr><td>ℹ️</td><td><p>The <code>standard</code> analyzer is used by default for <code>text</code> fields if an <code>analyzer</code> isn’t specified. It’s included here for demonstration purposes.</p></td></tr><tr><td>ℹ️</td><td><p><a href=\"https://elasticsearch_bk_114353.docs-preview.app.elstc.co/guide/en/elasticsearch/reference/master/multi-fields.html\" title=\"fields\">Multi-fields</a> are used to index <code>text</code> fields as both <code>text</code> and <code>keyword</code> <a href=\"https://elasticsearch_bk_114353.docs-preview.app.elstc.co/guide/en/elasticsearch/reference/master/mapping-types.html\" title=\"Field data types\">data types</a>. This enables both full-text search and exact matching/filtering on the same field. Note that if you used <a href=\"https://elasticsearch_bk_114353.docs-preview.app.elstc.co/guide/en/elasticsearch/reference/master/dynamic-field-mapping.html\" title=\"Dynamic field mapping\">dynamic mapping</a>, these multi-fields would be created automatically.</p></td></tr><tr><td>ℹ️</td><td><p>The <a href=\"https://elasticsearch_bk_114353.docs-preview.app.elstc.co/guide/en/elasticsearch/reference/master/ignore-above.html\" title=\"ignore_above\"><code>ignore_above</code> parameter</a> prevents indexing values longer than 256 characters in the <code>keyword</code> field. Again this is the default value, but it’s included here for for demonstration purposes. It helps to save disk space and avoid potential issues with Lucene’s term byte-length limit.</p></td></tr></tbody></table>"
      ]
    },
    {
      "cell_type": "markdown",
      "id": "4c5d8033",
      "metadata": {
        "id": "4c5d8033"
      },
      "source": [
        "Full-text search is powered by [text analysis](https://elasticsearch_bk_114353.docs-preview.app.elstc.co/guide/en/elasticsearch/reference/master/analysis.html \"Text analysis\"). Text analysis normalizes and standardizes text data so it can be efficiently stored in an inverted index and searched in near real-time. Analysis happens at both [index and search time](https://elasticsearch_bk_114353.docs-preview.app.elstc.co/guide/en/elasticsearch/reference/master/analysis-index-search-time.html \"Index and search analysis\"). This tutorial won’t cover analysis in detail, but it’s important to understand how text is processed to create effective search queries."
      ]
    },
    {
      "cell_type": "markdown",
      "id": "57221e0e",
      "metadata": {
        "id": "57221e0e"
      },
      "source": [
        "### Step 2: Add sample blog posts to your index"
      ]
    },
    {
      "cell_type": "markdown",
      "id": "0681526c",
      "metadata": {
        "id": "0681526c"
      },
      "source": [
        "Now you’ll need to index some example blog posts using the [Bulk API](https://elasticsearch_bk_114353.docs-preview.app.elstc.co/guide/en/elasticsearch/reference/master/indices-update-settings.html#bulk \"Bulk indexing usage\"). Note that `text` fields are analyzed and multi-fields are generated at index time."
      ]
    },
    {
      "cell_type": "code",
      "execution_count": 10,
      "id": "562a18d6",
      "metadata": {
        "colab": {
          "base_uri": "https://localhost:8080/"
        },
        "id": "562a18d6",
        "outputId": "3a767231-ef03-46ea-d7ed-fd004d31981b"
      },
      "outputs": [
        {
          "output_type": "stream",
          "name": "stdout",
          "text": [
            "{'errors': False, 'took': 400, 'items': [{'index': {'_index': 'cooking_blog', '_id': '1', '_version': 1, 'result': 'created', '_shards': {'total': 2, 'successful': 2, 'failed': 0}, '_seq_no': 0, '_primary_term': 1, 'status': 201}}, {'index': {'_index': 'cooking_blog', '_id': '2', '_version': 1, 'result': 'created', '_shards': {'total': 2, 'successful': 2, 'failed': 0}, '_seq_no': 1, '_primary_term': 1, 'status': 201}}, {'index': {'_index': 'cooking_blog', '_id': '3', '_version': 1, 'result': 'created', '_shards': {'total': 2, 'successful': 2, 'failed': 0}, '_seq_no': 2, '_primary_term': 1, 'status': 201}}, {'index': {'_index': 'cooking_blog', '_id': '4', '_version': 1, 'result': 'created', '_shards': {'total': 2, 'successful': 2, 'failed': 0}, '_seq_no': 3, '_primary_term': 1, 'status': 201}}, {'index': {'_index': 'cooking_blog', '_id': '5', '_version': 1, 'result': 'created', '_shards': {'total': 2, 'successful': 2, 'failed': 0}, '_seq_no': 4, '_primary_term': 1, 'status': 201}}]}\n"
          ]
        }
      ],
      "source": [
        "resp = client.bulk(\n",
        "    index=\"cooking_blog\",\n",
        "    refresh=\"wait_for\",\n",
        "    operations=[\n",
        "        {\n",
        "            \"index\": {\n",
        "                \"_id\": \"1\"\n",
        "            }\n",
        "        },\n",
        "        {\n",
        "            \"title\": \"Perfect Pancakes: A Fluffy Breakfast Delight\",\n",
        "            \"description\": \"Learn the secrets to making the fluffiest pancakes, so amazing you won't believe your tastebuds. This recipe uses buttermilk and a special folding technique to create light, airy pancakes that are perfect for lazy Sunday mornings.\",\n",
        "            \"author\": \"Maria Rodriguez\",\n",
        "            \"date\": \"2023-05-01\",\n",
        "            \"category\": \"Breakfast\",\n",
        "            \"tags\": [\n",
        "                \"pancakes\",\n",
        "                \"breakfast\",\n",
        "                \"easy recipes\"\n",
        "            ],\n",
        "            \"rating\": 4.8\n",
        "        },\n",
        "        {\n",
        "            \"index\": {\n",
        "                \"_id\": \"2\"\n",
        "            }\n",
        "        },\n",
        "        {\n",
        "            \"title\": \"Spicy Thai Green Curry: A Vegetarian Adventure\",\n",
        "            \"description\": \"Dive into the flavors of Thailand with this vibrant green curry. Packed with vegetables and aromatic herbs, this dish is both healthy and satisfying. Don't worry about the heat - you can easily adjust the spice level to your liking.\",\n",
        "            \"author\": \"Liam Chen\",\n",
        "            \"date\": \"2023-05-05\",\n",
        "            \"category\": \"Main Course\",\n",
        "            \"tags\": [\n",
        "                \"thai\",\n",
        "                \"vegetarian\",\n",
        "                \"curry\",\n",
        "                \"spicy\"\n",
        "            ],\n",
        "            \"rating\": 4.6\n",
        "        },\n",
        "        {\n",
        "            \"index\": {\n",
        "                \"_id\": \"3\"\n",
        "            }\n",
        "        },\n",
        "        {\n",
        "            \"title\": \"Classic Beef Stroganoff: A Creamy Comfort Food\",\n",
        "            \"description\": \"Indulge in this rich and creamy beef stroganoff. Tender strips of beef in a savory mushroom sauce, served over a bed of egg noodles. It's the ultimate comfort food for chilly evenings.\",\n",
        "            \"author\": \"Emma Watson\",\n",
        "            \"date\": \"2023-05-10\",\n",
        "            \"category\": \"Main Course\",\n",
        "            \"tags\": [\n",
        "                \"beef\",\n",
        "                \"pasta\",\n",
        "                \"comfort food\"\n",
        "            ],\n",
        "            \"rating\": 4.7\n",
        "        },\n",
        "        {\n",
        "            \"index\": {\n",
        "                \"_id\": \"4\"\n",
        "            }\n",
        "        },\n",
        "        {\n",
        "            \"title\": \"Vegan Chocolate Avocado Mousse\",\n",
        "            \"description\": \"Discover the magic of avocado in this rich, vegan chocolate mousse. Creamy, indulgent, and secretly healthy, it's the perfect guilt-free dessert for chocolate lovers.\",\n",
        "            \"author\": \"Alex Green\",\n",
        "            \"date\": \"2023-05-15\",\n",
        "            \"category\": \"Dessert\",\n",
        "            \"tags\": [\n",
        "                \"vegan\",\n",
        "                \"chocolate\",\n",
        "                \"avocado\",\n",
        "                \"healthy dessert\"\n",
        "            ],\n",
        "            \"rating\": 4.5\n",
        "        },\n",
        "        {\n",
        "            \"index\": {\n",
        "                \"_id\": \"5\"\n",
        "            }\n",
        "        },\n",
        "        {\n",
        "            \"title\": \"Crispy Oven-Fried Chicken\",\n",
        "            \"description\": \"Get that perfect crunch without the deep fryer! This oven-fried chicken recipe delivers crispy, juicy results every time. A healthier take on the classic comfort food.\",\n",
        "            \"author\": \"Maria Rodriguez\",\n",
        "            \"date\": \"2023-05-20\",\n",
        "            \"category\": \"Main Course\",\n",
        "            \"tags\": [\n",
        "                \"chicken\",\n",
        "                \"oven-fried\",\n",
        "                \"healthy\"\n",
        "            ],\n",
        "            \"rating\": 4.9\n",
        "        }\n",
        "    ],\n",
        ")\n",
        "\n",
        "print(resp)"
      ]
    },
    {
      "cell_type": "markdown",
      "id": "e60dff3f",
      "metadata": {
        "id": "e60dff3f"
      },
      "source": [
        "### Step 3: Perform basic full-text searches"
      ]
    },
    {
      "cell_type": "markdown",
      "id": "b1d59f08",
      "metadata": {
        "id": "b1d59f08"
      },
      "source": [
        "Full-text search involves executing text-based queries across one or more document fields. These queries calculate a relevance score for each matching document, based on how closely the document’s content aligns with the search terms. Elasticsearch offers various query types, each with its own method for matching text and [relevance scoring](https://elasticsearch_bk_114353.docs-preview.app.elstc.co/guide/en/elasticsearch/reference/master/query-filter-context.html#relevance-scores \"Relevance scores\")."
      ]
    },
    {
      "cell_type": "markdown",
      "id": "f57e6fb4",
      "metadata": {
        "id": "f57e6fb4"
      },
      "source": [
        "The [`match`](https://elasticsearch_bk_114353.docs-preview.app.elstc.co/guide/en/elasticsearch/reference/master/query-dsl-match-query.html \"Match query\") query is the standard query for full-text, or \"lexical\", search. The query text will be analyzed according to the analyzer configuration specified on each field (or at query time)."
      ]
    },
    {
      "cell_type": "markdown",
      "id": "cf5f6736",
      "metadata": {
        "id": "cf5f6736"
      },
      "source": [
        "First, search the `description` field for \"fluffy pancakes\":"
      ]
    },
    {
      "cell_type": "code",
      "execution_count": 11,
      "id": "f77af41f",
      "metadata": {
        "colab": {
          "base_uri": "https://localhost:8080/"
        },
        "id": "f77af41f",
        "outputId": "8ea480fb-6aac-43c3-ec51-df3b0ce6475c"
      },
      "outputs": [
        {
          "output_type": "stream",
          "name": "stdout",
          "text": [
            "{'took': 0, 'timed_out': False, '_shards': {'total': 1, 'successful': 1, 'skipped': 0, 'failed': 0}, 'hits': {'total': {'value': 1, 'relation': 'eq'}, 'max_score': 1.8378843, 'hits': [{'_index': 'cooking_blog', '_id': '1', '_score': 1.8378843, '_source': {'title': 'Perfect Pancakes: A Fluffy Breakfast Delight', 'description': \"Learn the secrets to making the fluffiest pancakes, so amazing you won't believe your tastebuds. This recipe uses buttermilk and a special folding technique to create light, airy pancakes that are perfect for lazy Sunday mornings.\", 'author': 'Maria Rodriguez', 'date': '2023-05-01', 'category': 'Breakfast', 'tags': ['pancakes', 'breakfast', 'easy recipes'], 'rating': 4.8}}]}}\n"
          ]
        }
      ],
      "source": [
        "resp = client.search(\n",
        "    index=\"cooking_blog\",\n",
        "    query={\n",
        "        \"match\": {\n",
        "            \"description\": {\n",
        "                \"query\": \"fluffy pancakes\"\n",
        "            }\n",
        "        }\n",
        "    },\n",
        ")\n",
        "\n",
        "print(resp)"
      ]
    },
    {
      "cell_type": "markdown",
      "id": "1f5d0c5a",
      "metadata": {
        "id": "1f5d0c5a"
      },
      "source": [
        "<table summary=\"Callout list\"><tbody><tr><td>ℹ️</td><td><p>By default, the <code>match</code> query uses <code>OR</code> logic between the resulting tokens. This means it will match documents that contain either \"fluffy\" or \"pancakes\", or both, in the description field.</p></td></tr></tbody></table>"
      ]
    },
    {
      "cell_type": "markdown",
      "id": "34c2f676",
      "metadata": {
        "id": "34c2f676"
      },
      "source": [
        "At search time, Elasticsearch defaults to the analyzer defined in the field mapping. In this example, we’re using the `standard` analyzer. Using a different analyzer at search time is an [advanced use case](https://elasticsearch_bk_114353.docs-preview.app.elstc.co/guide/en/elasticsearch/reference/master/analysis-index-search-time.html#different-analyzers \"When to use a different search analyzer\")."
      ]
    },
    {
      "cell_type": "markdown",
      "id": "3f5b788d",
      "metadata": {
        "id": "3f5b788d"
      },
      "source": [
        "<table summary=\"Callout list\"><tbody><tr><td>ℹ️</td><td><p>The <code>hits</code> object contains the total number of matching documents and their relation to the total. Refer to <a href=\"https://elasticsearch_bk_114353.docs-preview.app.elstc.co/guide/en/elasticsearch/reference/master/search-your-data.html#track-total-hits\" title=\"Track total hits\">Track total hits</a> for more details about the <code>hits</code> object.</p></td></tr><tr><td>ℹ️</td><td><p><code>max_score</code> is the highest relevance score among all matching documents. In this example, we only have one matching document.</p></td></tr><tr><td>ℹ️</td><td><p><code>_score</code> is the relevance score for a specific document, indicating how well it matches the query. Higher scores indicate better matches. In this example the <code>max_score</code> is the same as the <code>_score</code>, as there is only one matching document.</p></td></tr><tr><td>ℹ️</td><td><p>The title contains both \"Fluffy\" and \"Pancakes\", matching our search terms exactly.</p></td></tr><tr><td>ℹ️</td><td><p>The description includes \"fluffiest\" and \"pancakes\", further contributing to the document’s relevance due to the analysis process.</p></td></tr></tbody></table>"
      ]
    },
    {
      "cell_type": "markdown",
      "id": "f946fd74",
      "metadata": {
        "id": "f946fd74"
      },
      "source": [
        "#### Require all terms in a match query"
      ]
    },
    {
      "cell_type": "markdown",
      "id": "20a3bb31",
      "metadata": {
        "id": "20a3bb31"
      },
      "source": [
        "Specify the `and` operator to require both terms in the `description` field. This stricter search returns zero hits on our sample data, as no document contains both \"fluffy\" and \"pancakes\" in the description."
      ]
    },
    {
      "cell_type": "code",
      "execution_count": 12,
      "id": "c48b8135",
      "metadata": {
        "colab": {
          "base_uri": "https://localhost:8080/"
        },
        "id": "c48b8135",
        "outputId": "9d1e7243-63c0-4095-d8a9-18e38887e015"
      },
      "outputs": [
        {
          "output_type": "stream",
          "name": "stdout",
          "text": [
            "{'took': 0, 'timed_out': False, '_shards': {'total': 1, 'successful': 1, 'skipped': 0, 'failed': 0}, 'hits': {'total': {'value': 0, 'relation': 'eq'}, 'max_score': None, 'hits': []}}\n"
          ]
        }
      ],
      "source": [
        "resp = client.search(\n",
        "    index=\"cooking_blog\",\n",
        "    query={\n",
        "        \"match\": {\n",
        "            \"description\": {\n",
        "                \"query\": \"fluffy pancakes\",\n",
        "                \"operator\": \"and\"\n",
        "            }\n",
        "        }\n",
        "    },\n",
        ")\n",
        "\n",
        "print(resp)"
      ]
    },
    {
      "cell_type": "markdown",
      "id": "e6c6424b",
      "metadata": {
        "id": "e6c6424b"
      },
      "source": [
        "#### Specify a minimum number of terms to match"
      ]
    },
    {
      "cell_type": "markdown",
      "id": "b7650322",
      "metadata": {
        "id": "b7650322"
      },
      "source": [
        "Use the [`minimum_should_match`](https://elasticsearch_bk_114353.docs-preview.app.elstc.co/guide/en/elasticsearch/reference/master/query-dsl-minimum-should-match.html \"minimum_should_match parameter\") parameter to specify the minimum number of terms a document should have to be included in the search results."
      ]
    },
    {
      "cell_type": "markdown",
      "id": "db3111f5",
      "metadata": {
        "id": "db3111f5"
      },
      "source": [
        "Search the title field to match at least 2 of the 3 terms: \"fluffy\", \"pancakes\", or \"breakfast\". This is useful for improving relevance while allowing some flexibility."
      ]
    },
    {
      "cell_type": "code",
      "execution_count": 13,
      "id": "abbf9c53",
      "metadata": {
        "colab": {
          "base_uri": "https://localhost:8080/"
        },
        "id": "abbf9c53",
        "outputId": "18ad99fb-8db2-4d0e-9fd1-6a936b747381"
      },
      "outputs": [
        {
          "output_type": "stream",
          "name": "stdout",
          "text": [
            "{'took': 2, 'timed_out': False, '_shards': {'total': 1, 'successful': 1, 'skipped': 0, 'failed': 0}, 'hits': {'total': {'value': 1, 'relation': 'eq'}, 'max_score': 4.0408072, 'hits': [{'_index': 'cooking_blog', '_id': '1', '_score': 4.0408072, '_source': {'title': 'Perfect Pancakes: A Fluffy Breakfast Delight', 'description': \"Learn the secrets to making the fluffiest pancakes, so amazing you won't believe your tastebuds. This recipe uses buttermilk and a special folding technique to create light, airy pancakes that are perfect for lazy Sunday mornings.\", 'author': 'Maria Rodriguez', 'date': '2023-05-01', 'category': 'Breakfast', 'tags': ['pancakes', 'breakfast', 'easy recipes'], 'rating': 4.8}}]}}\n"
          ]
        }
      ],
      "source": [
        "resp = client.search(\n",
        "    index=\"cooking_blog\",\n",
        "    query={\n",
        "        \"match\": {\n",
        "            \"title\": {\n",
        "                \"query\": \"fluffy pancakes breakfast\",\n",
        "                \"minimum_should_match\": 2\n",
        "            }\n",
        "        }\n",
        "    },\n",
        ")\n",
        "\n",
        "print(resp)"
      ]
    },
    {
      "cell_type": "markdown",
      "id": "14389d35",
      "metadata": {
        "id": "14389d35"
      },
      "source": [
        "### Step 4: Search across multiple fields at once"
      ]
    },
    {
      "cell_type": "markdown",
      "id": "e3dc0e03",
      "metadata": {
        "id": "e3dc0e03"
      },
      "source": [
        "When users enter a search query, they often don’t know (or care) whether their search terms appear in a specific field. A [`multi_match`](https://elasticsearch_bk_114353.docs-preview.app.elstc.co/guide/en/elasticsearch/reference/master/query-dsl-multi-match-query.html \"Multi-match query\") query allows searching across multiple fields simultaneously."
      ]
    },
    {
      "cell_type": "markdown",
      "id": "3498ddf3",
      "metadata": {
        "id": "3498ddf3"
      },
      "source": [
        "Let’s start with a basic `multi_match` query:"
      ]
    },
    {
      "cell_type": "code",
      "execution_count": 14,
      "id": "0efc6a27",
      "metadata": {
        "colab": {
          "base_uri": "https://localhost:8080/"
        },
        "id": "0efc6a27",
        "outputId": "74c91af4-1051-44d0-8bda-05a336ff0bc0"
      },
      "outputs": [
        {
          "output_type": "stream",
          "name": "stdout",
          "text": [
            "{'took': 6, 'timed_out': False, '_shards': {'total': 1, 'successful': 1, 'skipped': 0, 'failed': 0}, 'hits': {'total': {'value': 1, 'relation': 'eq'}, 'max_score': 2.8276732, 'hits': [{'_index': 'cooking_blog', '_id': '2', '_score': 2.8276732, '_source': {'title': 'Spicy Thai Green Curry: A Vegetarian Adventure', 'description': \"Dive into the flavors of Thailand with this vibrant green curry. Packed with vegetables and aromatic herbs, this dish is both healthy and satisfying. Don't worry about the heat - you can easily adjust the spice level to your liking.\", 'author': 'Liam Chen', 'date': '2023-05-05', 'category': 'Main Course', 'tags': ['thai', 'vegetarian', 'curry', 'spicy'], 'rating': 4.6}}]}}\n"
          ]
        }
      ],
      "source": [
        "resp = client.search(\n",
        "    index=\"cooking_blog\",\n",
        "    query={\n",
        "        \"multi_match\": {\n",
        "            \"query\": \"vegetarian curry\",\n",
        "            \"fields\": [\n",
        "                \"title\",\n",
        "                \"description\",\n",
        "                \"tags\"\n",
        "            ]\n",
        "        }\n",
        "    },\n",
        ")\n",
        "\n",
        "print(resp)"
      ]
    },
    {
      "cell_type": "markdown",
      "id": "de5d9073",
      "metadata": {
        "id": "de5d9073"
      },
      "source": [
        "This query searches for \"vegetarian curry\" across the title, description, and tags fields. Each field is treated with equal importance."
      ]
    },
    {
      "cell_type": "markdown",
      "id": "f15cf327",
      "metadata": {
        "id": "f15cf327"
      },
      "source": [
        "However, in many cases, matches in certain fields (like the title) might be more relevant than others. We can adjust the importance of each field using field boosting:"
      ]
    },
    {
      "cell_type": "code",
      "execution_count": 15,
      "id": "aedd3351",
      "metadata": {
        "colab": {
          "base_uri": "https://localhost:8080/"
        },
        "id": "aedd3351",
        "outputId": "36e4a0c1-ffed-405f-e486-99572cad4779"
      },
      "outputs": [
        {
          "output_type": "stream",
          "name": "stdout",
          "text": [
            "{'took': 3, 'timed_out': False, '_shards': {'total': 1, 'successful': 1, 'skipped': 0, 'failed': 0}, 'hits': {'total': {'value': 1, 'relation': 'eq'}, 'max_score': 7.546015, 'hits': [{'_index': 'cooking_blog', '_id': '2', '_score': 7.546015, '_source': {'title': 'Spicy Thai Green Curry: A Vegetarian Adventure', 'description': \"Dive into the flavors of Thailand with this vibrant green curry. Packed with vegetables and aromatic herbs, this dish is both healthy and satisfying. Don't worry about the heat - you can easily adjust the spice level to your liking.\", 'author': 'Liam Chen', 'date': '2023-05-05', 'category': 'Main Course', 'tags': ['thai', 'vegetarian', 'curry', 'spicy'], 'rating': 4.6}}]}}\n"
          ]
        }
      ],
      "source": [
        "resp = client.search(\n",
        "    index=\"cooking_blog\",\n",
        "    query={\n",
        "        \"multi_match\": {\n",
        "            \"query\": \"vegetarian curry\",\n",
        "            \"fields\": [\n",
        "                \"title^3\",\n",
        "                \"description^2\",\n",
        "                \"tags\"\n",
        "            ]\n",
        "        }\n",
        "    },\n",
        ")\n",
        "\n",
        "print(resp)"
      ]
    },
    {
      "cell_type": "markdown",
      "id": "93e959a9",
      "metadata": {
        "id": "93e959a9"
      },
      "source": [
        "<table summary=\"Callout list\"><tbody><tr><td>ℹ️</td><td><p>The <code>^</code> syntax applies a boost to specific fields:</p><div><ul><li><code>title^3</code>: The title field is 3 times more important than an unboosted field</li><li><code>description^2</code>: The description is 2 times more important</li><li><p><code>tags</code>: No boost applied (equivalent to <code>^1</code>)</p><p>These boosts help tune relevance, prioritizing matches in the title over the description, and matches in the description over tags.</p></li></ul></div></td></tr></tbody></table>"
      ]
    },
    {
      "cell_type": "markdown",
      "id": "efa82ed0",
      "metadata": {
        "id": "efa82ed0"
      },
      "source": [
        "Learn more about fields and per-field boosting in the [`multi_match` query](https://elasticsearch_bk_114353.docs-preview.app.elstc.co/guide/en/elasticsearch/reference/master/query-dsl-multi-match-query.html \"Multi-match query\") reference."
      ]
    },
    {
      "cell_type": "markdown",
      "id": "d2236583",
      "metadata": {
        "id": "d2236583"
      },
      "source": [
        "<table summary=\"Callout list\"><tbody><tr><td>ℹ️</td><td><p>The title contains \"Vegetarian\" and \"Curry\", which matches our search terms. The title field has the highest boost (^3), contributing significantly to this document’s relevance score.</p></td></tr><tr><td>ℹ️</td><td><p>The description contains \"curry\" and related terms like \"vegetables\", further increasing the document’s relevance.</p></td></tr><tr><td>ℹ️</td><td><p>The tags include both \"vegetarian\" and \"curry\", providing an exact match for our search terms, albeit with no boost.</p></td></tr></tbody></table>"
      ]
    },
    {
      "cell_type": "markdown",
      "id": "c48c97f0",
      "metadata": {
        "id": "c48c97f0"
      },
      "source": [
        "This result demonstrates how the `multi_match` query with field boosts helps users find relevant recipes across multiple fields. Even though the exact phrase \"vegetarian curry\" doesn’t appear in any single field, the combination of matches across fields produces a highly relevant result."
      ]
    },
    {
      "cell_type": "markdown",
      "id": "dde14777",
      "metadata": {
        "id": "dde14777"
      },
      "source": [
        "The `multi_match` query is often recommended over a single `match` query for most text search use cases, as it provides more flexibility and better matches user expectations. It won’t work if the multi-field mapping isn’t enabled."
      ]
    },
    {
      "cell_type": "markdown",
      "id": "bdad218c",
      "metadata": {
        "id": "bdad218c"
      },
      "source": [
        "### Step 5: Filter and find exact matches"
      ]
    },
    {
      "cell_type": "markdown",
      "id": "bbeb4348",
      "metadata": {
        "id": "bbeb4348"
      },
      "source": [
        "[Filtering](https://elasticsearch_bk_114353.docs-preview.app.elstc.co/guide/en/elasticsearch/reference/master/query-filter-context.html#filter-context \"Filter context\") allows you to narrow down your search results based on exact criteria. Unlike full-text searches, filters are binary (yes/no) and do not affect the relevance score. Filters execute faster than queries because excluded results don’t need to be scored."
      ]
    },
    {
      "cell_type": "markdown",
      "id": "3a17fd11",
      "metadata": {
        "id": "3a17fd11"
      },
      "source": [
        "This [`bool`](https://elasticsearch_bk_114353.docs-preview.app.elstc.co/guide/en/elasticsearch/reference/master/query-dsl-bool-query.html \"Boolean query\") query will return only blog posts in the \"Breakfast\" category."
      ]
    },
    {
      "cell_type": "code",
      "execution_count": 16,
      "id": "ac92c817",
      "metadata": {
        "colab": {
          "base_uri": "https://localhost:8080/"
        },
        "id": "ac92c817",
        "outputId": "fb4661b6-2041-46ad-ae86-b0a1557dd531"
      },
      "outputs": [
        {
          "output_type": "stream",
          "name": "stdout",
          "text": [
            "{'took': 0, 'timed_out': False, '_shards': {'total': 1, 'successful': 1, 'skipped': 0, 'failed': 0}, 'hits': {'total': {'value': 1, 'relation': 'eq'}, 'max_score': 0.0, 'hits': [{'_index': 'cooking_blog', '_id': '1', '_score': 0.0, '_source': {'title': 'Perfect Pancakes: A Fluffy Breakfast Delight', 'description': \"Learn the secrets to making the fluffiest pancakes, so amazing you won't believe your tastebuds. This recipe uses buttermilk and a special folding technique to create light, airy pancakes that are perfect for lazy Sunday mornings.\", 'author': 'Maria Rodriguez', 'date': '2023-05-01', 'category': 'Breakfast', 'tags': ['pancakes', 'breakfast', 'easy recipes'], 'rating': 4.8}}]}}\n"
          ]
        }
      ],
      "source": [
        "resp = client.search(\n",
        "    index=\"cooking_blog\",\n",
        "    query={\n",
        "        \"bool\": {\n",
        "            \"filter\": [\n",
        "                {\n",
        "                    \"term\": {\n",
        "                        \"category.keyword\": \"Breakfast\"\n",
        "                    }\n",
        "                }\n",
        "            ]\n",
        "        }\n",
        "    },\n",
        ")\n",
        "\n",
        "print(resp)"
      ]
    },
    {
      "cell_type": "markdown",
      "id": "4c4f0d59",
      "metadata": {
        "id": "4c4f0d59"
      },
      "source": [
        "<table summary=\"Callout list\"><tbody><tr><td>ℹ️</td><td><p>Note the use of <code>category.keyword</code> here. This refers to the <a href=\"https://elasticsearch_bk_114353.docs-preview.app.elstc.co/guide/en/elasticsearch/reference/master/keyword.html\" title=\"Keyword type family\"><code>keyword</code></a> multi-field of the <code>category</code> field, ensuring an exact, case-sensitive match.</p></td></tr></tbody></table>"
      ]
    },
    {
      "cell_type": "markdown",
      "id": "446cef19",
      "metadata": {
        "id": "446cef19"
      },
      "source": [
        "The `.keyword` suffix accesses the unanalyzed version of a field, enabling exact, case-sensitive matching. This works in two scenarios:"
      ]
    },
    {
      "cell_type": "markdown",
      "id": "47067ff2",
      "metadata": {
        "id": "47067ff2"
      },
      "source": [
        "1.  **When using dynamic mapping for text fields**. Elasticsearch automatically creates a `.keyword` sub-field.\n",
        "2.  **When text fields are explicitly mapped with a `.keyword` sub-field**. For example, we explicitly mapped the `category` field in [Step 1](https://elasticsearch_bk_114353.docs-preview.app.elstc.co/guide/en/elasticsearch/reference/master/full-text-filter-tutorial.html#full-text-filter-tutorial-create-index \"Step 1: Create an index\") of this tutorial."
      ]
    },
    {
      "cell_type": "markdown",
      "id": "8d6c9b63",
      "metadata": {
        "id": "8d6c9b63"
      },
      "source": [
        "#### Search for posts within a date range"
      ]
    },
    {
      "cell_type": "markdown",
      "id": "d48b51c7",
      "metadata": {
        "id": "d48b51c7"
      },
      "source": [
        "Often users want to find content published within a specific time frame. A [`range`](https://elasticsearch_bk_114353.docs-preview.app.elstc.co/guide/en/elasticsearch/reference/master/query-dsl-range-query.html \"Range query\") query finds documents that fall within numeric or date ranges."
      ]
    },
    {
      "cell_type": "code",
      "execution_count": 17,
      "id": "5137a227",
      "metadata": {
        "colab": {
          "base_uri": "https://localhost:8080/"
        },
        "id": "5137a227",
        "outputId": "06ff27fc-71fa-4e1b-dd0c-12c506d94d99"
      },
      "outputs": [
        {
          "output_type": "stream",
          "name": "stdout",
          "text": [
            "{'took': 0, 'timed_out': False, '_shards': {'total': 1, 'successful': 1, 'skipped': 0, 'failed': 0}, 'hits': {'total': {'value': 5, 'relation': 'eq'}, 'max_score': 1.0, 'hits': [{'_index': 'cooking_blog', '_id': '1', '_score': 1.0, '_source': {'title': 'Perfect Pancakes: A Fluffy Breakfast Delight', 'description': \"Learn the secrets to making the fluffiest pancakes, so amazing you won't believe your tastebuds. This recipe uses buttermilk and a special folding technique to create light, airy pancakes that are perfect for lazy Sunday mornings.\", 'author': 'Maria Rodriguez', 'date': '2023-05-01', 'category': 'Breakfast', 'tags': ['pancakes', 'breakfast', 'easy recipes'], 'rating': 4.8}}, {'_index': 'cooking_blog', '_id': '2', '_score': 1.0, '_source': {'title': 'Spicy Thai Green Curry: A Vegetarian Adventure', 'description': \"Dive into the flavors of Thailand with this vibrant green curry. Packed with vegetables and aromatic herbs, this dish is both healthy and satisfying. Don't worry about the heat - you can easily adjust the spice level to your liking.\", 'author': 'Liam Chen', 'date': '2023-05-05', 'category': 'Main Course', 'tags': ['thai', 'vegetarian', 'curry', 'spicy'], 'rating': 4.6}}, {'_index': 'cooking_blog', '_id': '3', '_score': 1.0, '_source': {'title': 'Classic Beef Stroganoff: A Creamy Comfort Food', 'description': \"Indulge in this rich and creamy beef stroganoff. Tender strips of beef in a savory mushroom sauce, served over a bed of egg noodles. It's the ultimate comfort food for chilly evenings.\", 'author': 'Emma Watson', 'date': '2023-05-10', 'category': 'Main Course', 'tags': ['beef', 'pasta', 'comfort food'], 'rating': 4.7}}, {'_index': 'cooking_blog', '_id': '4', '_score': 1.0, '_source': {'title': 'Vegan Chocolate Avocado Mousse', 'description': \"Discover the magic of avocado in this rich, vegan chocolate mousse. Creamy, indulgent, and secretly healthy, it's the perfect guilt-free dessert for chocolate lovers.\", 'author': 'Alex Green', 'date': '2023-05-15', 'category': 'Dessert', 'tags': ['vegan', 'chocolate', 'avocado', 'healthy dessert'], 'rating': 4.5}}, {'_index': 'cooking_blog', '_id': '5', '_score': 1.0, '_source': {'title': 'Crispy Oven-Fried Chicken', 'description': 'Get that perfect crunch without the deep fryer! This oven-fried chicken recipe delivers crispy, juicy results every time. A healthier take on the classic comfort food.', 'author': 'Maria Rodriguez', 'date': '2023-05-20', 'category': 'Main Course', 'tags': ['chicken', 'oven-fried', 'healthy'], 'rating': 4.9}}]}}\n"
          ]
        }
      ],
      "source": [
        "resp = client.search(\n",
        "    index=\"cooking_blog\",\n",
        "    query={\n",
        "        \"range\": {\n",
        "            \"date\": {\n",
        "                \"gte\": \"2023-05-01\",\n",
        "                \"lte\": \"2023-05-31\"\n",
        "            }\n",
        "        }\n",
        "    },\n",
        ")\n",
        "\n",
        "print(resp)"
      ]
    },
    {
      "cell_type": "markdown",
      "id": "65884752",
      "metadata": {
        "id": "65884752"
      },
      "source": [
        "<table summary=\"Callout list\"><tbody><tr><td>ℹ️</td><td><p>Greater than or equal to May 1, 2023.</p></td></tr><tr><td>ℹ️</td><td><p>Less than or equal to May 31, 2023.</p></td></tr></tbody></table>"
      ]
    },
    {
      "cell_type": "markdown",
      "id": "760da949",
      "metadata": {
        "id": "760da949"
      },
      "source": [
        "Sometimes users want to search for exact terms to eliminate ambiguity in their search results. A [`term`](https://elasticsearch_bk_114353.docs-preview.app.elstc.co/guide/en/elasticsearch/reference/master/query-dsl-term-query.html \"Term query\") query searches for an exact term in a field without analyzing it. Exact, case-sensitive matches on specific terms are often referred to as \"keyword\" searches."
      ]
    },
    {
      "cell_type": "markdown",
      "id": "e5407efd",
      "metadata": {
        "id": "e5407efd"
      },
      "source": [
        "Here you’ll search for the author \"Maria Rodriguez\" in the `author.keyword` field."
      ]
    },
    {
      "cell_type": "code",
      "execution_count": 18,
      "id": "2d8c0f1f",
      "metadata": {
        "colab": {
          "base_uri": "https://localhost:8080/"
        },
        "id": "2d8c0f1f",
        "outputId": "ffdd7fd3-9bcc-4a72-9768-4bdbfef74453"
      },
      "outputs": [
        {
          "output_type": "stream",
          "name": "stdout",
          "text": [
            "{'took': 0, 'timed_out': False, '_shards': {'total': 1, 'successful': 1, 'skipped': 0, 'failed': 0}, 'hits': {'total': {'value': 2, 'relation': 'eq'}, 'max_score': 0.87546873, 'hits': [{'_index': 'cooking_blog', '_id': '1', '_score': 0.87546873, '_source': {'title': 'Perfect Pancakes: A Fluffy Breakfast Delight', 'description': \"Learn the secrets to making the fluffiest pancakes, so amazing you won't believe your tastebuds. This recipe uses buttermilk and a special folding technique to create light, airy pancakes that are perfect for lazy Sunday mornings.\", 'author': 'Maria Rodriguez', 'date': '2023-05-01', 'category': 'Breakfast', 'tags': ['pancakes', 'breakfast', 'easy recipes'], 'rating': 4.8}}, {'_index': 'cooking_blog', '_id': '5', '_score': 0.87546873, '_source': {'title': 'Crispy Oven-Fried Chicken', 'description': 'Get that perfect crunch without the deep fryer! This oven-fried chicken recipe delivers crispy, juicy results every time. A healthier take on the classic comfort food.', 'author': 'Maria Rodriguez', 'date': '2023-05-20', 'category': 'Main Course', 'tags': ['chicken', 'oven-fried', 'healthy'], 'rating': 4.9}}]}}\n"
          ]
        }
      ],
      "source": [
        "resp = client.search(\n",
        "    index=\"cooking_blog\",\n",
        "    query={\n",
        "        \"term\": {\n",
        "            \"author.keyword\": \"Maria Rodriguez\"\n",
        "        }\n",
        "    },\n",
        ")\n",
        "\n",
        "print(resp)"
      ]
    },
    {
      "cell_type": "markdown",
      "id": "3888468f",
      "metadata": {
        "id": "3888468f"
      },
      "source": [
        "<table summary=\"Callout list\"><tbody><tr><td>ℹ️</td><td><p>The <code>term</code> query has zero flexibility. For example, here the queries <code>maria</code> or <code>maria rodriguez</code> would have zero hits, due to case sensitivity.</p></td></tr></tbody></table>"
      ]
    },
    {
      "cell_type": "markdown",
      "id": "4497131d",
      "metadata": {
        "id": "4497131d"
      },
      "source": [
        "Avoid using the `term` query for [`text` fields](https://elasticsearch_bk_114353.docs-preview.app.elstc.co/guide/en/elasticsearch/reference/master/text.html \"Text type family\") because they are transformed by the analysis process."
      ]
    },
    {
      "cell_type": "markdown",
      "id": "5a8bf2fe",
      "metadata": {
        "id": "5a8bf2fe"
      },
      "source": [
        "### Step 6: Combine multiple search criteria"
      ]
    },
    {
      "cell_type": "markdown",
      "id": "33e84f2c",
      "metadata": {
        "id": "33e84f2c"
      },
      "source": [
        "A [`bool`](https://elasticsearch_bk_114353.docs-preview.app.elstc.co/guide/en/elasticsearch/reference/master/query-dsl-bool-query.html \"Boolean query\") query allows you to combine multiple query clauses to create sophisticated searches. In this tutorial scenario it’s useful for when users have complex requirements for finding recipes."
      ]
    },
    {
      "cell_type": "markdown",
      "id": "c1de9152",
      "metadata": {
        "id": "c1de9152"
      },
      "source": [
        "Let’s create a query that addresses the following user needs:"
      ]
    },
    {
      "cell_type": "markdown",
      "id": "7c805ac7",
      "metadata": {
        "id": "7c805ac7"
      },
      "source": [
        "*   Must be a vegetarian main course\n",
        "*   Should contain \"curry\" or \"spicy\" in the title or description\n",
        "*   Must not be a dessert\n",
        "*   Must have a rating of at least 4.5\n",
        "*   Should prefer recipes published in the last month"
      ]
    },
    {
      "cell_type": "code",
      "execution_count": 19,
      "id": "215c860f",
      "metadata": {
        "colab": {
          "base_uri": "https://localhost:8080/"
        },
        "id": "215c860f",
        "outputId": "f9418be9-000b-4e42-c615-8fa36fe23752"
      },
      "outputs": [
        {
          "output_type": "stream",
          "name": "stdout",
          "text": [
            "{'took': 2, 'timed_out': False, '_shards': {'total': 1, 'successful': 1, 'skipped': 0, 'failed': 0}, 'hits': {'total': {'value': 1, 'relation': 'eq'}, 'max_score': 7.9835095, 'hits': [{'_index': 'cooking_blog', '_id': '2', '_score': 7.9835095, '_source': {'title': 'Spicy Thai Green Curry: A Vegetarian Adventure', 'description': \"Dive into the flavors of Thailand with this vibrant green curry. Packed with vegetables and aromatic herbs, this dish is both healthy and satisfying. Don't worry about the heat - you can easily adjust the spice level to your liking.\", 'author': 'Liam Chen', 'date': '2023-05-05', 'category': 'Main Course', 'tags': ['thai', 'vegetarian', 'curry', 'spicy'], 'rating': 4.6}}]}}\n"
          ]
        }
      ],
      "source": [
        "resp = client.search(\n",
        "    index=\"cooking_blog\",\n",
        "    query={\n",
        "        \"bool\": {\n",
        "            \"must\": [\n",
        "                {\n",
        "                    \"term\": {\n",
        "                        \"category.keyword\": \"Main Course\"\n",
        "                    }\n",
        "                },\n",
        "                {\n",
        "                    \"term\": {\n",
        "                        \"tags\": \"vegetarian\"\n",
        "                    }\n",
        "                },\n",
        "                {\n",
        "                    \"range\": {\n",
        "                        \"rating\": {\n",
        "                            \"gte\": 4.5\n",
        "                        }\n",
        "                    }\n",
        "                }\n",
        "            ],\n",
        "            \"should\": [\n",
        "                {\n",
        "                    \"multi_match\": {\n",
        "                        \"query\": \"curry spicy\",\n",
        "                        \"fields\": [\n",
        "                            \"title^2\",\n",
        "                            \"description\"\n",
        "                        ]\n",
        "                    }\n",
        "                },\n",
        "                {\n",
        "                    \"range\": {\n",
        "                        \"date\": {\n",
        "                            \"gte\": \"now-1M/d\"\n",
        "                        }\n",
        "                    }\n",
        "                }\n",
        "            ],\n",
        "            \"must_not\": [\n",
        "                {\n",
        "                    \"term\": {\n",
        "                        \"category.keyword\": \"Dessert\"\n",
        "                    }\n",
        "                }\n",
        "            ]\n",
        "        }\n",
        "    },\n",
        ")\n",
        "\n",
        "print(resp)"
      ]
    },
    {
      "cell_type": "markdown",
      "id": "a71f5938",
      "metadata": {
        "id": "a71f5938"
      },
      "source": [
        "<table summary=\"Callout list\"><tbody><tr><td>ℹ️</td><td><p>The <code>must_not</code> clause excludes documents that match the specified criteria. This is a powerful tool for filtering out unwanted results.</p></td></tr></tbody></table>"
      ]
    },
    {
      "cell_type": "markdown",
      "id": "e2f118e0",
      "metadata": {
        "id": "e2f118e0"
      },
      "source": [
        "<table summary=\"Callout list\"><tbody><tr><td>ℹ️</td><td><p>The title contains \"Spicy\", matching one of our <code>should</code> conditions and contributing to a higher relevance score.</p></td></tr><tr><td>ℹ️</td><td><p>The description includes \"curry\", further increasing the document’s relevance.</p></td></tr><tr><td>ℹ️</td><td><p>The recipe was published within the last month, satisfying our recency preference.</p></td></tr><tr><td>ℹ️</td><td><p>The \"Main Course\" category matches our <code>must</code> condition.</p></td></tr><tr><td>ℹ️</td><td><p>The \"vegetarian\" tag satisfies another <code>must</code> condition, while \"curry\" and \"spicy\" tags align with our <code>should</code> preferences.</p></td></tr><tr><td>ℹ️</td><td><p>The rating of 4.6 meets our minimum rating requirement of 4.5.</p></td></tr></tbody></table>"
      ]
    },
    {
      "cell_type": "markdown",
      "id": "28e4b44d",
      "metadata": {
        "id": "28e4b44d"
      },
      "source": [
        "This tutorial introduced the basics of full-text search and filtering in Elasticsearch. Building a real-world search experience requires understanding many more advanced concepts and techniques. Here are some resources once you’re ready to dive deeper:"
      ]
    },
    {
      "cell_type": "markdown",
      "id": "cd999409",
      "metadata": {
        "id": "cd999409"
      },
      "source": [
        "*   [Elasticsearch basics — Search and analyze data](https://elasticsearch_bk_114353.docs-preview.app.elstc.co/guide/en/elasticsearch/reference/master/search-analyze.html \"Search and analyze data\"): Understand all your options for searching and analyzing data in Elasticsearch.\n",
        "*   [Text analysis](https://elasticsearch_bk_114353.docs-preview.app.elstc.co/guide/en/elasticsearch/reference/master/analysis.html \"Text analysis\"): Understand how text is processed for full-text search.\n",
        "*   [Search your data](https://elasticsearch_bk_114353.docs-preview.app.elstc.co/guide/en/elasticsearch/reference/master/search-with-elasticsearch.html \"Search your data\"): Learn about more advanced search techniques using the `_search` API, including semantic search."
      ]
    }
  ],
  "metadata": {
    "language_info": {
      "name": "python"
    },
    "colab": {
      "provenance": [],
      "include_colab_link": true
    },
    "kernelspec": {
      "name": "python3",
      "display_name": "Python 3"
    }
  },
  "nbformat": 4,
  "nbformat_minor": 5
}