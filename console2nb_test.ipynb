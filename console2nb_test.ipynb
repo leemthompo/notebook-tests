{
  "cells": [
    {
      "cell_type": "markdown",
      "metadata": {
        "id": "view-in-github",
        "colab_type": "text"
      },
      "source": [
        "<a href=\"https://colab.research.google.com/github/leemthompo/notebook-tests/blob/main/console2nb_test.ipynb\" target=\"_parent\"><img src=\"https://colab.research.google.com/assets/colab-badge.svg\" alt=\"Open In Colab\"/></a>"
      ]
    },
    {
      "cell_type": "markdown",
      "id": "7c8ff0a8",
      "metadata": {
        "id": "7c8ff0a8"
      },
      "source": [
        "**bold text**[[full-text-filter-tutorial]]\n",
        "== Basic full-text search and filtering in {es}\n",
        "++++\n",
        "<titleabbrev>Basics: Full-text search and filtering</titleabbrev>\n",
        "++++\n",
        "#\n",
        "This is a hands-on introduction to the basics of full-text search with {es}, also known as _lexical search_, using the <<search-search,`_search` API>> and <<query-dsl,Query DSL>>.\n",
        "You'll also learn how to filter data, to narrow down search results based on exact criteria.\n",
        "#\n",
        "In this scenario, we're implementing a search function for a cooking blog.\n",
        "The blog contains recipes with various attributes including textual content, categorical data, and numerical ratings.\n",
        "#\n",
        "The goal is to create search queries that enable users to:\n",
        "#\n",
        "* Find recipes based on ingredients they want to use or avoid\n",
        "* Discover dishes suitable for their dietary needs\n",
        "* Find highly-rated recipes in specific categories\n",
        "* Find recent recipes from their favorite authors\n",
        "#\n",
        "To achieve these goals we'll use different Elasticsearch queries to perform full-text search, apply filters, and combine multiple search criteria.\n",
        "#\n",
        "[discrete]\n",
        "[[full-text-filter-tutorial-create-index]]\n",
        "=== Step 1: Create an index\n",
        "#\n",
        "Create the `cooking_blog` index to get started:\n",
        "#\n",
        "#"
      ]
    },
    {
      "cell_type": "code",
      "source": [
        "!pip install elasticsearch\n",
        "from getpass import getpass\n",
        "from elasticsearch import Elasticsearch"
      ],
      "metadata": {
        "id": "NIlcFn3LmKeU"
      },
      "id": "NIlcFn3LmKeU",
      "execution_count": null,
      "outputs": []
    },
    {
      "cell_type": "code",
      "source": [
        "CLOUD_ID = getpass(\"Elastic Cloud ID: \")\n",
        "\n",
        "ELASTIC_API_KEY = getpass(\"Elastic Api Key: \")\n",
        "\n",
        "client = Elasticsearch(\n",
        "    cloud_id=CLOUD_ID,\n",
        "    api_key=ELASTIC_API_KEY,\n",
        ")"
      ],
      "metadata": {
        "id": "ogLAEaZzmNgv"
      },
      "id": "ogLAEaZzmNgv",
      "execution_count": null,
      "outputs": []
    },
    {
      "cell_type": "code",
      "execution_count": 8,
      "id": "85eaba0b",
      "metadata": {
        "id": "85eaba0b"
      },
      "outputs": [],
      "source": [
        "resp = client.indices.create(\n",
        "    index=\"cooking_blog\",\n",
        ")\n",
        "print(resp)"
      ]
    },
    {
      "cell_type": "markdown",
      "id": "495bbc26",
      "metadata": {
        "id": "495bbc26"
      },
      "source": [
        "#\n",
        "#\n",
        "Now define the mappings for the index:\n",
        "#\n",
        "#"
      ]
    },
    {
      "cell_type": "code",
      "execution_count": 9,
      "id": "bd7117f9",
      "metadata": {
        "colab": {
          "base_uri": "https://localhost:8080/"
        },
        "id": "bd7117f9",
        "outputId": "27ba6b86-2e2a-43f4-bb1e-782b19d7bc1f"
      },
      "outputs": [
        {
          "output_type": "stream",
          "name": "stdout",
          "text": [
            "{'acknowledged': True}\n"
          ]
        }
      ],
      "source": [
        "resp = client.indices.put_mapping(\n",
        "    index=\"cooking_blog\",\n",
        "    properties={\n",
        "        \"title\": {\n",
        "            \"type\": \"text\",\n",
        "            \"analyzer\": \"standard\",\n",
        "            \"fields\": {\n",
        "                \"keyword\": {\n",
        "                    \"type\": \"keyword\",\n",
        "                    \"ignore_above\": 256\n",
        "                }\n",
        "            }\n",
        "        },\n",
        "        \"description\": {\n",
        "            \"type\": \"text\",\n",
        "            \"fields\": {\n",
        "                \"keyword\": {\n",
        "                    \"type\": \"keyword\"\n",
        "                }\n",
        "            }\n",
        "        },\n",
        "        \"author\": {\n",
        "            \"type\": \"text\",\n",
        "            \"fields\": {\n",
        "                \"keyword\": {\n",
        "                    \"type\": \"keyword\"\n",
        "                }\n",
        "            }\n",
        "        },\n",
        "        \"date\": {\n",
        "            \"type\": \"date\",\n",
        "            \"format\": \"yyyy-MM-dd\"\n",
        "        },\n",
        "        \"category\": {\n",
        "            \"type\": \"text\",\n",
        "            \"fields\": {\n",
        "                \"keyword\": {\n",
        "                    \"type\": \"keyword\"\n",
        "                }\n",
        "            }\n",
        "        },\n",
        "        \"tags\": {\n",
        "            \"type\": \"text\",\n",
        "            \"fields\": {\n",
        "                \"keyword\": {\n",
        "                    \"type\": \"keyword\"\n",
        "                }\n",
        "            }\n",
        "        },\n",
        "        \"rating\": {\n",
        "            \"type\": \"float\"\n",
        "        }\n",
        "    },\n",
        ")\n",
        "print(resp)"
      ]
    },
    {
      "cell_type": "markdown",
      "id": "c954aa1c",
      "metadata": {
        "id": "c954aa1c"
      },
      "source": [
        "#\n",
        "Note that if you used <<dynamic-field-mapping,dynamic mapping>>, these multi-fields would be created automatically.\n",
        "It helps to save disk space and avoid potential issues with Lucene's term byte-length limit.\n",
        "#\n",
        "[TIP]\n",
        "====\n",
        "Full-text search is powered by <<analysis,text analysis>>.\n",
        "Text analysis normalizes and standardizes text data so it can be efficiently stored in an inverted index and searched in near real-time.\n",
        "Analysis happens at both <<analysis-index-search-time,index and search time>>.\n",
        "This tutorial won't cover analysis in detail, but it's important to understand how text is processed to create effective search queries.\n",
        "====\n",
        "#\n",
        "[discrete]\n",
        "[[full-text-filter-tutorial-index-data]]\n",
        "=== Step 2: Add sample blog posts to your index\n",
        "#\n",
        "Now you'll need to index some example blog posts using the <<bulk, Bulk API>>.\n",
        "Note that `text` fields are analyzed and multi-fields are generated at index time.\n",
        "#\n",
        "#"
      ]
    },
    {
      "cell_type": "code",
      "execution_count": 10,
      "id": "12bea782",
      "metadata": {
        "colab": {
          "base_uri": "https://localhost:8080/"
        },
        "id": "12bea782",
        "outputId": "8c1d5dc5-da57-4b9a-dcb3-6ed96762c617"
      },
      "outputs": [
        {
          "output_type": "stream",
          "name": "stdout",
          "text": [
            "{'errors': False, 'took': 600, 'items': [{'index': {'_index': 'cooking_blog', '_id': '1', '_version': 1, 'result': 'created', '_shards': {'total': 2, 'successful': 2, 'failed': 0}, '_seq_no': 0, '_primary_term': 1, 'status': 201}}, {'index': {'_index': 'cooking_blog', '_id': '2', '_version': 1, 'result': 'created', '_shards': {'total': 2, 'successful': 2, 'failed': 0}, '_seq_no': 1, '_primary_term': 1, 'status': 201}}, {'index': {'_index': 'cooking_blog', '_id': '3', '_version': 1, 'result': 'created', '_shards': {'total': 2, 'successful': 2, 'failed': 0}, '_seq_no': 2, '_primary_term': 1, 'status': 201}}, {'index': {'_index': 'cooking_blog', '_id': '4', '_version': 1, 'result': 'created', '_shards': {'total': 2, 'successful': 2, 'failed': 0}, '_seq_no': 3, '_primary_term': 1, 'status': 201}}, {'index': {'_index': 'cooking_blog', '_id': '5', '_version': 1, 'result': 'created', '_shards': {'total': 2, 'successful': 2, 'failed': 0}, '_seq_no': 4, '_primary_term': 1, 'status': 201}}]}\n"
          ]
        }
      ],
      "source": [
        "resp = client.bulk(\n",
        "    index=\"cooking_blog\",\n",
        "    refresh=\"wait_for\",\n",
        "    operations=[\n",
        "        {\n",
        "            \"index\": {\n",
        "                \"_id\": \"1\"\n",
        "            }\n",
        "        },\n",
        "        {\n",
        "            \"title\": \"Perfect Pancakes: A Fluffy Breakfast Delight\",\n",
        "            \"description\": \"Learn the secrets to making the fluffiest pancakes, so amazing you won't believe your tastebuds. This recipe uses buttermilk and a special folding technique to create light, airy pancakes that are perfect for lazy Sunday mornings.\",\n",
        "            \"author\": \"Maria Rodriguez\",\n",
        "            \"date\": \"2023-05-01\",\n",
        "            \"category\": \"Breakfast\",\n",
        "            \"tags\": [\n",
        "                \"pancakes\",\n",
        "                \"breakfast\",\n",
        "                \"easy recipes\"\n",
        "            ],\n",
        "            \"rating\": 4.8\n",
        "        },\n",
        "        {\n",
        "            \"index\": {\n",
        "                \"_id\": \"2\"\n",
        "            }\n",
        "        },\n",
        "        {\n",
        "            \"title\": \"Spicy Thai Green Curry: A Vegetarian Adventure\",\n",
        "            \"description\": \"Dive into the flavors of Thailand with this vibrant green curry. Packed with vegetables and aromatic herbs, this dish is both healthy and satisfying. Don't worry about the heat - you can easily adjust the spice level to your liking.\",\n",
        "            \"author\": \"Liam Chen\",\n",
        "            \"date\": \"2023-05-05\",\n",
        "            \"category\": \"Main Course\",\n",
        "            \"tags\": [\n",
        "                \"thai\",\n",
        "                \"vegetarian\",\n",
        "                \"curry\",\n",
        "                \"spicy\"\n",
        "            ],\n",
        "            \"rating\": 4.6\n",
        "        },\n",
        "        {\n",
        "            \"index\": {\n",
        "                \"_id\": \"3\"\n",
        "            }\n",
        "        },\n",
        "        {\n",
        "            \"title\": \"Classic Beef Stroganoff: A Creamy Comfort Food\",\n",
        "            \"description\": \"Indulge in this rich and creamy beef stroganoff. Tender strips of beef in a savory mushroom sauce, served over a bed of egg noodles. It's the ultimate comfort food for chilly evenings.\",\n",
        "            \"author\": \"Emma Watson\",\n",
        "            \"date\": \"2023-05-10\",\n",
        "            \"category\": \"Main Course\",\n",
        "            \"tags\": [\n",
        "                \"beef\",\n",
        "                \"pasta\",\n",
        "                \"comfort food\"\n",
        "            ],\n",
        "            \"rating\": 4.7\n",
        "        },\n",
        "        {\n",
        "            \"index\": {\n",
        "                \"_id\": \"4\"\n",
        "            }\n",
        "        },\n",
        "        {\n",
        "            \"title\": \"Vegan Chocolate Avocado Mousse\",\n",
        "            \"description\": \"Discover the magic of avocado in this rich, vegan chocolate mousse. Creamy, indulgent, and secretly healthy, it's the perfect guilt-free dessert for chocolate lovers.\",\n",
        "            \"author\": \"Alex Green\",\n",
        "            \"date\": \"2023-05-15\",\n",
        "            \"category\": \"Dessert\",\n",
        "            \"tags\": [\n",
        "                \"vegan\",\n",
        "                \"chocolate\",\n",
        "                \"avocado\",\n",
        "                \"healthy dessert\"\n",
        "            ],\n",
        "            \"rating\": 4.5\n",
        "        },\n",
        "        {\n",
        "            \"index\": {\n",
        "                \"_id\": \"5\"\n",
        "            }\n",
        "        },\n",
        "        {\n",
        "            \"title\": \"Crispy Oven-Fried Chicken\",\n",
        "            \"description\": \"Get that perfect crunch without the deep fryer! This oven-fried chicken recipe delivers crispy, juicy results every time. A healthier take on the classic comfort food.\",\n",
        "            \"author\": \"Maria Rodriguez\",\n",
        "            \"date\": \"2023-05-20\",\n",
        "            \"category\": \"Main Course\",\n",
        "            \"tags\": [\n",
        "                \"chicken\",\n",
        "                \"oven-fried\",\n",
        "                \"healthy\"\n",
        "            ],\n",
        "            \"rating\": 4.9\n",
        "        }\n",
        "    ],\n",
        ")\n",
        "print(resp)\n"
      ]
    },
    {
      "cell_type": "markdown",
      "id": "7259ad72",
      "metadata": {
        "id": "7259ad72"
      },
      "source": [
        "#\n",
        "#\n",
        "[discrete]\n",
        "[[full-text-filter-tutorial-match-query]]\n",
        "=== Step 3: Perform basic full-text searches\n",
        "#\n",
        "Full-text search involves executing text-based queries across one or more document fields.\n",
        "These queries calculate a relevance score for each matching document, based on how closely the document's content aligns with the search terms.\n",
        "{es} offers various query types, each with its own method for matching text and <<relevance-scores,relevance scoring>>.\n",
        "#\n",
        "[discrete]\n",
        "==== `match` query\n",
        "#\n",
        "The <<query-dsl-match-query, `match`>> query is the standard query for full-text, or \"lexical\", search.\n",
        "The query text will be analyzed according to the analyzer configuration specified on each field (or at query time).\n",
        "#\n",
        "First, search the `description` field for \"fluffy pancakes\":\n",
        "#\n",
        "#"
      ]
    },
    {
      "cell_type": "code",
      "execution_count": 11,
      "id": "a8e00e36",
      "metadata": {
        "colab": {
          "base_uri": "https://localhost:8080/"
        },
        "id": "a8e00e36",
        "outputId": "8bde31ce-ed9f-4da9-fca6-ee41cbc8b949"
      },
      "outputs": [
        {
          "output_type": "stream",
          "name": "stdout",
          "text": [
            "{'took': 1, 'timed_out': False, '_shards': {'total': 1, 'successful': 1, 'skipped': 0, 'failed': 0}, 'hits': {'total': {'value': 1, 'relation': 'eq'}, 'max_score': 1.8378843, 'hits': [{'_index': 'cooking_blog', '_id': '1', '_score': 1.8378843, '_source': {'title': 'Perfect Pancakes: A Fluffy Breakfast Delight', 'description': \"Learn the secrets to making the fluffiest pancakes, so amazing you won't believe your tastebuds. This recipe uses buttermilk and a special folding technique to create light, airy pancakes that are perfect for lazy Sunday mornings.\", 'author': 'Maria Rodriguez', 'date': '2023-05-01', 'category': 'Breakfast', 'tags': ['pancakes', 'breakfast', 'easy recipes'], 'rating': 4.8}}]}}\n"
          ]
        }
      ],
      "source": [
        "resp = client.search(\n",
        "    index=\"cooking_blog\",\n",
        "    query={\n",
        "        \"match\": {\n",
        "            \"description\": {\n",
        "                \"query\": \"fluffy pancakes\"\n",
        "            }\n",
        "        }\n",
        "    },\n",
        ")\n",
        "print(resp)\n"
      ]
    },
    {
      "cell_type": "markdown",
      "id": "ebc6a0be",
      "metadata": {
        "id": "ebc6a0be"
      },
      "source": [
        "#\n",
        "#\n",
        "At search time, {es} defaults to the analyzer defined in the field mapping. In this example, we're using the `standard` analyzer. Using a different analyzer at search time is an <<different-analyzers,advanced use case>>.\n",
        "#\n",
        "#\n",
        "#\n",
        "[discrete]\n",
        "==== Require all terms in a match query\n",
        "#\n",
        "Specify the `and` operator to require both terms in the `description` field.\n",
        "This stricter search returns zero hits on our sample data, as no document contains both \"fluffy\" and \"pancakes\" in the description.\n",
        "#\n",
        "#"
      ]
    },
    {
      "cell_type": "code",
      "execution_count": 12,
      "id": "8872f8fd",
      "metadata": {
        "colab": {
          "base_uri": "https://localhost:8080/"
        },
        "id": "8872f8fd",
        "outputId": "a13a1c30-a706-4ee6-c6cc-1d3d5b89e9b8"
      },
      "outputs": [
        {
          "output_type": "stream",
          "name": "stdout",
          "text": [
            "{'took': 0, 'timed_out': False, '_shards': {'total': 1, 'successful': 1, 'skipped': 0, 'failed': 0}, 'hits': {'total': {'value': 0, 'relation': 'eq'}, 'max_score': None, 'hits': []}}\n"
          ]
        }
      ],
      "source": [
        "resp = client.search(\n",
        "    index=\"cooking_blog\",\n",
        "    query={\n",
        "        \"match\": {\n",
        "            \"description\": {\n",
        "                \"query\": \"fluffy pancakes\",\n",
        "                \"operator\": \"and\"\n",
        "            }\n",
        "        }\n",
        "    },\n",
        ")\n",
        "print(resp)\n"
      ]
    },
    {
      "cell_type": "markdown",
      "id": "b363b8c7",
      "metadata": {
        "id": "b363b8c7"
      },
      "source": [
        "#\n",
        "#\n",
        "#\n",
        "#\n",
        "[discrete]\n",
        "==== Specify a minimum number of terms to match\n",
        "#\n",
        "Use the <<query-dsl-minimum-should-match,`minimum_should_match`>> parameter to specify the minimum number of terms a document should have to be included in the search results.\n",
        "#\n",
        "Search the title field to match at least 2 of the 3 terms: \"fluffy\", \"pancakes\", or \"breakfast\".\n",
        "This is useful for improving relevance while allowing some flexibility.\n",
        "#\n",
        "#"
      ]
    },
    {
      "cell_type": "code",
      "execution_count": 13,
      "id": "55ba788f",
      "metadata": {
        "colab": {
          "base_uri": "https://localhost:8080/"
        },
        "id": "55ba788f",
        "outputId": "fbbbffce-7f00-4c0e-f5c0-5dd8a10be648"
      },
      "outputs": [
        {
          "output_type": "stream",
          "name": "stdout",
          "text": [
            "{'took': 2, 'timed_out': False, '_shards': {'total': 1, 'successful': 1, 'skipped': 0, 'failed': 0}, 'hits': {'total': {'value': 1, 'relation': 'eq'}, 'max_score': 4.0408072, 'hits': [{'_index': 'cooking_blog', '_id': '1', '_score': 4.0408072, '_source': {'title': 'Perfect Pancakes: A Fluffy Breakfast Delight', 'description': \"Learn the secrets to making the fluffiest pancakes, so amazing you won't believe your tastebuds. This recipe uses buttermilk and a special folding technique to create light, airy pancakes that are perfect for lazy Sunday mornings.\", 'author': 'Maria Rodriguez', 'date': '2023-05-01', 'category': 'Breakfast', 'tags': ['pancakes', 'breakfast', 'easy recipes'], 'rating': 4.8}}]}}\n"
          ]
        }
      ],
      "source": [
        "resp = client.search(\n",
        "    index=\"cooking_blog\",\n",
        "    query={\n",
        "        \"match\": {\n",
        "            \"title\": {\n",
        "                \"query\": \"fluffy pancakes breakfast\",\n",
        "                \"minimum_should_match\": 2\n",
        "            }\n",
        "        }\n",
        "    },\n",
        ")\n",
        "print(resp)\n"
      ]
    },
    {
      "cell_type": "markdown",
      "id": "0b081274",
      "metadata": {
        "id": "0b081274"
      },
      "source": [
        "#\n",
        "#\n",
        "[discrete]\n",
        "[[full-text-filter-tutorial-multi-match]]\n",
        "=== Step 4: Search across multiple fields at once\n",
        "#\n",
        "When users enter a search query, they often don't know (or care) whether their search terms appear in a specific field.\n",
        "A <<query-dsl-multi-match-query,`multi_match`>> query allows searching across multiple fields simultaneously.\n",
        "#\n",
        "Let's start with a basic `multi_match` query:\n",
        "#\n",
        "#"
      ]
    },
    {
      "cell_type": "code",
      "execution_count": 14,
      "id": "70a18b7d",
      "metadata": {
        "colab": {
          "base_uri": "https://localhost:8080/"
        },
        "id": "70a18b7d",
        "outputId": "56dbc4fa-976c-4c97-e29a-d65f9d853bdf"
      },
      "outputs": [
        {
          "output_type": "stream",
          "name": "stdout",
          "text": [
            "{'took': 6, 'timed_out': False, '_shards': {'total': 1, 'successful': 1, 'skipped': 0, 'failed': 0}, 'hits': {'total': {'value': 1, 'relation': 'eq'}, 'max_score': 2.8276732, 'hits': [{'_index': 'cooking_blog', '_id': '2', '_score': 2.8276732, '_source': {'title': 'Spicy Thai Green Curry: A Vegetarian Adventure', 'description': \"Dive into the flavors of Thailand with this vibrant green curry. Packed with vegetables and aromatic herbs, this dish is both healthy and satisfying. Don't worry about the heat - you can easily adjust the spice level to your liking.\", 'author': 'Liam Chen', 'date': '2023-05-05', 'category': 'Main Course', 'tags': ['thai', 'vegetarian', 'curry', 'spicy'], 'rating': 4.6}}]}}\n"
          ]
        }
      ],
      "source": [
        "resp = client.search(\n",
        "    index=\"cooking_blog\",\n",
        "    query={\n",
        "        \"multi_match\": {\n",
        "            \"query\": \"vegetarian curry\",\n",
        "            \"fields\": [\n",
        "                \"title\",\n",
        "                \"description\",\n",
        "                \"tags\"\n",
        "            ]\n",
        "        }\n",
        "    },\n",
        ")\n",
        "print(resp)"
      ]
    },
    {
      "cell_type": "markdown",
      "id": "f7a210ae",
      "metadata": {
        "id": "f7a210ae"
      },
      "source": [
        "#\n",
        "#\n",
        "This query searches for \"vegetarian curry\" across the title, description, and tags fields. Each field is treated with equal importance.\n",
        "#\n",
        "However, in many cases, matches in certain fields (like the title) might be more relevant than others. We can adjust the importance of each field using field boosting:\n",
        "#\n",
        "#"
      ]
    },
    {
      "cell_type": "code",
      "execution_count": 15,
      "id": "610e13a6",
      "metadata": {
        "colab": {
          "base_uri": "https://localhost:8080/"
        },
        "id": "610e13a6",
        "outputId": "97fee6f8-32b8-4291-b3af-794f10093347"
      },
      "outputs": [
        {
          "output_type": "stream",
          "name": "stdout",
          "text": [
            "{'took': 1, 'timed_out': False, '_shards': {'total': 1, 'successful': 1, 'skipped': 0, 'failed': 0}, 'hits': {'total': {'value': 1, 'relation': 'eq'}, 'max_score': 7.546015, 'hits': [{'_index': 'cooking_blog', '_id': '2', '_score': 7.546015, '_source': {'title': 'Spicy Thai Green Curry: A Vegetarian Adventure', 'description': \"Dive into the flavors of Thailand with this vibrant green curry. Packed with vegetables and aromatic herbs, this dish is both healthy and satisfying. Don't worry about the heat - you can easily adjust the spice level to your liking.\", 'author': 'Liam Chen', 'date': '2023-05-05', 'category': 'Main Course', 'tags': ['thai', 'vegetarian', 'curry', 'spicy'], 'rating': 4.6}}]}}\n"
          ]
        }
      ],
      "source": [
        "resp = client.search(\n",
        "    index=\"cooking_blog\",\n",
        "    query={\n",
        "        \"multi_match\": {\n",
        "            \"query\": \"vegetarian curry\",\n",
        "            \"fields\": [\n",
        "                \"title^3\",\n",
        "                \"description^2\",\n",
        "                \"tags\"\n",
        "            ]\n",
        "        }\n",
        "    },\n",
        ")\n",
        "print(resp)\n"
      ]
    },
    {
      "cell_type": "markdown",
      "id": "82df6ad5",
      "metadata": {
        "id": "82df6ad5"
      },
      "source": [
        "#\n",
        "+\n",
        "* `title^3`: The title field is 3 times more important than an unboosted field\n",
        "* `description^2`: The description is 2 times more important\n",
        "* `tags`: No boost applied (equivalent to `^1`)\n",
        "+\n",
        "These boosts help tune relevance, prioritizing matches in the title over the description, and matches in the description over tags.\n",
        "#\n",
        "Learn more about fields and per-field boosting in the <<query-dsl-multi-match-query,`multi_match` query>> reference.\n",
        "#\n",
        "#\n",
        "#\n",
        "[TIP]\n",
        "====\n",
        "The `multi_match` query is often recommended over a single `match` query for most text search use cases, as it provides more flexibility and better matches user expectations. It won't work if the multi-field mapping isn't enabled.\n",
        "====\n",
        "#\n",
        "[discrete]\n",
        "[[full-text-filter-tutorial-filtering]]\n",
        "=== Step 5: Filter and find exact matches\n",
        "#\n",
        "<<filter-context,Filtering>> allows you to narrow down your search results based on exact criteria.\n",
        "Unlike full-text searches, filters are binary (yes/no) and do not affect the relevance score.\n",
        "Filters execute faster than queries because excluded results don't need to be scored.\n",
        "#\n",
        "This <<query-dsl-bool-query,`bool`>> query will return only blog posts in the \"Breakfast\" category.\n",
        "#\n",
        "#"
      ]
    },
    {
      "cell_type": "code",
      "execution_count": 16,
      "id": "3f4d56a9",
      "metadata": {
        "colab": {
          "base_uri": "https://localhost:8080/"
        },
        "id": "3f4d56a9",
        "outputId": "a596d46a-526e-4c93-fe88-88f07a09ea49"
      },
      "outputs": [
        {
          "output_type": "stream",
          "name": "stdout",
          "text": [
            "{'took': 0, 'timed_out': False, '_shards': {'total': 1, 'successful': 1, 'skipped': 0, 'failed': 0}, 'hits': {'total': {'value': 1, 'relation': 'eq'}, 'max_score': 0.0, 'hits': [{'_index': 'cooking_blog', '_id': '1', '_score': 0.0, '_source': {'title': 'Perfect Pancakes: A Fluffy Breakfast Delight', 'description': \"Learn the secrets to making the fluffiest pancakes, so amazing you won't believe your tastebuds. This recipe uses buttermilk and a special folding technique to create light, airy pancakes that are perfect for lazy Sunday mornings.\", 'author': 'Maria Rodriguez', 'date': '2023-05-01', 'category': 'Breakfast', 'tags': ['pancakes', 'breakfast', 'easy recipes'], 'rating': 4.8}}]}}\n"
          ]
        }
      ],
      "source": [
        "resp = client.search(\n",
        "    index=\"cooking_blog\",\n",
        "    query={\n",
        "        \"bool\": {\n",
        "            \"filter\": [\n",
        "                {\n",
        "                    \"term\": {\n",
        "                        \"category.keyword\": \"Breakfast\"\n",
        "                    }\n",
        "                }\n",
        "            ]\n",
        "        }\n",
        "    },\n",
        ")\n",
        "print(resp)\n"
      ]
    },
    {
      "cell_type": "markdown",
      "id": "56c6f543",
      "metadata": {
        "id": "56c6f543"
      },
      "source": [
        "#\n",
        "#\n",
        "[TIP]\n",
        "====\n",
        "The `.keyword` suffix accesses the unanalyzed version of a field, enabling exact, case-sensitive matching. This works in two scenarios:\n",
        "#\n",
        "1. *When using dynamic mapping for text fields*. Elasticsearch automatically creates a `.keyword` sub-field.\n",
        "2. *When text fields are explicitly mapped with a `.keyword` sub-field*. For example, we explicitly mapped the `category` field in <<full-text-filter-tutorial-create-index,Step 1>> of this tutorial.\n",
        "====\n",
        "#\n",
        "[discrete]\n",
        "[[full-text-filter-tutorial-range-query]]\n",
        "==== Search for posts within a date range\n",
        "#\n",
        "Often users want to find content published within a specific time frame.\n",
        "A <<query-dsl-range-query,`range`>> query finds documents that fall within numeric or date ranges.\n",
        "#\n",
        "#"
      ]
    },
    {
      "cell_type": "code",
      "execution_count": 17,
      "id": "bb4d4cf2",
      "metadata": {
        "colab": {
          "base_uri": "https://localhost:8080/"
        },
        "id": "bb4d4cf2",
        "outputId": "73afb16f-8491-4ae9-d452-1880a60eb6a3"
      },
      "outputs": [
        {
          "output_type": "stream",
          "name": "stdout",
          "text": [
            "{'took': 1, 'timed_out': False, '_shards': {'total': 1, 'successful': 1, 'skipped': 0, 'failed': 0}, 'hits': {'total': {'value': 5, 'relation': 'eq'}, 'max_score': 1.0, 'hits': [{'_index': 'cooking_blog', '_id': '1', '_score': 1.0, '_source': {'title': 'Perfect Pancakes: A Fluffy Breakfast Delight', 'description': \"Learn the secrets to making the fluffiest pancakes, so amazing you won't believe your tastebuds. This recipe uses buttermilk and a special folding technique to create light, airy pancakes that are perfect for lazy Sunday mornings.\", 'author': 'Maria Rodriguez', 'date': '2023-05-01', 'category': 'Breakfast', 'tags': ['pancakes', 'breakfast', 'easy recipes'], 'rating': 4.8}}, {'_index': 'cooking_blog', '_id': '2', '_score': 1.0, '_source': {'title': 'Spicy Thai Green Curry: A Vegetarian Adventure', 'description': \"Dive into the flavors of Thailand with this vibrant green curry. Packed with vegetables and aromatic herbs, this dish is both healthy and satisfying. Don't worry about the heat - you can easily adjust the spice level to your liking.\", 'author': 'Liam Chen', 'date': '2023-05-05', 'category': 'Main Course', 'tags': ['thai', 'vegetarian', 'curry', 'spicy'], 'rating': 4.6}}, {'_index': 'cooking_blog', '_id': '3', '_score': 1.0, '_source': {'title': 'Classic Beef Stroganoff: A Creamy Comfort Food', 'description': \"Indulge in this rich and creamy beef stroganoff. Tender strips of beef in a savory mushroom sauce, served over a bed of egg noodles. It's the ultimate comfort food for chilly evenings.\", 'author': 'Emma Watson', 'date': '2023-05-10', 'category': 'Main Course', 'tags': ['beef', 'pasta', 'comfort food'], 'rating': 4.7}}, {'_index': 'cooking_blog', '_id': '4', '_score': 1.0, '_source': {'title': 'Vegan Chocolate Avocado Mousse', 'description': \"Discover the magic of avocado in this rich, vegan chocolate mousse. Creamy, indulgent, and secretly healthy, it's the perfect guilt-free dessert for chocolate lovers.\", 'author': 'Alex Green', 'date': '2023-05-15', 'category': 'Dessert', 'tags': ['vegan', 'chocolate', 'avocado', 'healthy dessert'], 'rating': 4.5}}, {'_index': 'cooking_blog', '_id': '5', '_score': 1.0, '_source': {'title': 'Crispy Oven-Fried Chicken', 'description': 'Get that perfect crunch without the deep fryer! This oven-fried chicken recipe delivers crispy, juicy results every time. A healthier take on the classic comfort food.', 'author': 'Maria Rodriguez', 'date': '2023-05-20', 'category': 'Main Course', 'tags': ['chicken', 'oven-fried', 'healthy'], 'rating': 4.9}}]}}\n"
          ]
        }
      ],
      "source": [
        "resp = client.search(\n",
        "    index=\"cooking_blog\",\n",
        "    query={\n",
        "        \"range\": {\n",
        "            \"date\": {\n",
        "                \"gte\": \"2023-05-01\",\n",
        "                \"lte\": \"2023-05-31\"\n",
        "            }\n",
        "        }\n",
        "    },\n",
        ")\n",
        "print(resp)"
      ]
    },
    {
      "cell_type": "markdown",
      "id": "7cfde451",
      "metadata": {
        "id": "7cfde451"
      },
      "source": [
        "#\n",
        "#\n",
        "[discrete]\n",
        "[[full-text-filter-tutorial-term-query]]\n",
        "==== Find exact matches\n",
        "#\n",
        "Sometimes users want to search for exact terms to eliminate ambiguity in their search results.\n",
        "A <<query-dsl-term-query,`term`>> query searches for an exact term in a field without analyzing it.\n",
        "Exact, case-sensitive matches on specific terms are often referred to as \"keyword\" searches.\n",
        "#\n",
        "Here you'll search for the author \"Maria Rodriguez\" in the `author.keyword` field.\n",
        "#\n",
        "#"
      ]
    },
    {
      "cell_type": "code",
      "execution_count": 18,
      "id": "8d9e2c99",
      "metadata": {
        "colab": {
          "base_uri": "https://localhost:8080/"
        },
        "id": "8d9e2c99",
        "outputId": "9409b4b8-cd36-48b5-9b30-f31b44ecb920"
      },
      "outputs": [
        {
          "output_type": "stream",
          "name": "stdout",
          "text": [
            "{'took': 0, 'timed_out': False, '_shards': {'total': 1, 'successful': 1, 'skipped': 0, 'failed': 0}, 'hits': {'total': {'value': 2, 'relation': 'eq'}, 'max_score': 0.87546873, 'hits': [{'_index': 'cooking_blog', '_id': '1', '_score': 0.87546873, '_source': {'title': 'Perfect Pancakes: A Fluffy Breakfast Delight', 'description': \"Learn the secrets to making the fluffiest pancakes, so amazing you won't believe your tastebuds. This recipe uses buttermilk and a special folding technique to create light, airy pancakes that are perfect for lazy Sunday mornings.\", 'author': 'Maria Rodriguez', 'date': '2023-05-01', 'category': 'Breakfast', 'tags': ['pancakes', 'breakfast', 'easy recipes'], 'rating': 4.8}}, {'_index': 'cooking_blog', '_id': '5', '_score': 0.87546873, '_source': {'title': 'Crispy Oven-Fried Chicken', 'description': 'Get that perfect crunch without the deep fryer! This oven-fried chicken recipe delivers crispy, juicy results every time. A healthier take on the classic comfort food.', 'author': 'Maria Rodriguez', 'date': '2023-05-20', 'category': 'Main Course', 'tags': ['chicken', 'oven-fried', 'healthy'], 'rating': 4.9}}]}}\n"
          ]
        }
      ],
      "source": [
        "resp = client.search(\n",
        "    index=\"cooking_blog\",\n",
        "    query={\n",
        "        \"term\": {\n",
        "            \"author.keyword\": \"Maria Rodriguez\"\n",
        "        }\n",
        "    },\n",
        ")\n",
        "print(resp)\n"
      ]
    },
    {
      "cell_type": "markdown",
      "id": "ed7710f1",
      "metadata": {
        "id": "ed7710f1"
      },
      "source": [
        "#\n",
        "#\n",
        "[TIP]\n",
        "====\n",
        "Avoid using the `term` query for <<text,`text` fields>> because they are transformed by the analysis process.\n",
        "====\n",
        "#\n",
        "[discrete]\n",
        "[[full-text-filter-tutorial-complex-bool]]\n",
        "=== Step 6: Combine multiple search criteria\n",
        "#\n",
        "A <<query-dsl-bool-query,`bool`>> query allows you to combine multiple query clauses to create sophisticated searches.\n",
        "In this tutorial scenario it's useful for when users have complex requirements for finding recipes.\n",
        "#\n",
        "Let's create a query that addresses the following user needs:\n",
        "#\n",
        "* Must be a vegetarian main course\n",
        "* Should contain \"curry\" or \"spicy\" in the title or description\n",
        "* Must not be a dessert\n",
        "* Must have a rating of at least 4.5\n",
        "* Should prefer recipes published in the last month\n",
        "#\n",
        "#"
      ]
    },
    {
      "cell_type": "code",
      "execution_count": 19,
      "id": "b770ad67",
      "metadata": {
        "colab": {
          "base_uri": "https://localhost:8080/"
        },
        "id": "b770ad67",
        "outputId": "72bb3726-5c92-48b3-f8fc-8874c33cb9d1"
      },
      "outputs": [
        {
          "output_type": "stream",
          "name": "stdout",
          "text": [
            "{'took': 2, 'timed_out': False, '_shards': {'total': 1, 'successful': 1, 'skipped': 0, 'failed': 0}, 'hits': {'total': {'value': 1, 'relation': 'eq'}, 'max_score': 7.9835095, 'hits': [{'_index': 'cooking_blog', '_id': '2', '_score': 7.9835095, '_source': {'title': 'Spicy Thai Green Curry: A Vegetarian Adventure', 'description': \"Dive into the flavors of Thailand with this vibrant green curry. Packed with vegetables and aromatic herbs, this dish is both healthy and satisfying. Don't worry about the heat - you can easily adjust the spice level to your liking.\", 'author': 'Liam Chen', 'date': '2023-05-05', 'category': 'Main Course', 'tags': ['thai', 'vegetarian', 'curry', 'spicy'], 'rating': 4.6}}]}}\n"
          ]
        }
      ],
      "source": [
        "resp = client.search(\n",
        "    index=\"cooking_blog\",\n",
        "    query={\n",
        "        \"bool\": {\n",
        "            \"must\": [\n",
        "                {\n",
        "                    \"term\": {\n",
        "                        \"category.keyword\": \"Main Course\"\n",
        "                    }\n",
        "                },\n",
        "                {\n",
        "                    \"term\": {\n",
        "                        \"tags\": \"vegetarian\"\n",
        "                    }\n",
        "                },\n",
        "                {\n",
        "                    \"range\": {\n",
        "                        \"rating\": {\n",
        "                            \"gte\": 4.5\n",
        "                        }\n",
        "                    }\n",
        "                }\n",
        "            ],\n",
        "            \"should\": [\n",
        "                {\n",
        "                    \"multi_match\": {\n",
        "                        \"query\": \"curry spicy\",\n",
        "                        \"fields\": [\n",
        "                            \"title^2\",\n",
        "                            \"description\"\n",
        "                        ]\n",
        "                    }\n",
        "                },\n",
        "                {\n",
        "                    \"range\": {\n",
        "                        \"date\": {\n",
        "                            \"gte\": \"now-1M/d\"\n",
        "                        }\n",
        "                    }\n",
        "                }\n",
        "            ],\n",
        "            \"must_not\": [\n",
        "                {\n",
        "                    \"term\": {\n",
        "                        \"category.keyword\": \"Dessert\"\n",
        "                    }\n",
        "                }\n",
        "            ]\n",
        "        }\n",
        "    },\n",
        ")\n",
        "print(resp)\n"
      ]
    },
    {
      "cell_type": "markdown",
      "id": "c1b9d942",
      "metadata": {
        "id": "c1b9d942"
      },
      "source": [
        "#\n",
        "#\n",
        "#\n",
        "#\n",
        "[discrete]\n",
        "[[full-text-filter-tutorial-learn-more]]\n",
        "=== Learn more\n",
        "#\n",
        "This tutorial introduced the basics of full-text search and filtering in {es}.\n",
        "Building a real-world search experience requires understanding many more advanced concepts and techniques.\n",
        "Here are some resources once you're ready to dive deeper:\n",
        "#\n",
        "* <<search-analyze, Elasticsearch basics — Search and analyze data>>: Understand all your options for searching and analyzing data in {es}.\n",
        "* <<analysis,Text analysis>>: Understand how text is processed for full-text search.\n",
        "* <<search-with-elasticsearch>>: Learn about more advanced search techniques using the `_search` API, including semantic search.\n",
        "#\n",
        "#\n",
        "#"
      ]
    }
  ],
  "metadata": {
    "language_info": {
      "name": "python"
    },
    "colab": {
      "provenance": [],
      "include_colab_link": true
    },
    "kernelspec": {
      "name": "python3",
      "display_name": "Python 3"
    }
  },
  "nbformat": 4,
  "nbformat_minor": 5
}